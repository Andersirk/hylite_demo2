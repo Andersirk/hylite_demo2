{
 "cells": [
  {
   "cell_type": "code",
   "execution_count": null,
   "id": "26c302dd",
   "metadata": {},
   "outputs": [],
   "source": [
    "import hylite\n",
    "from hylite import io\n",
    "import numpy as np\n",
    "\n",
    "import matplotlib.pyplot as plt"
   ]
  },
  {
   "cell_type": "code",
   "execution_count": null,
   "id": "47116c30",
   "metadata": {},
   "outputs": [],
   "source": [
    "%matplotlib inline"
   ]
  },
  {
   "cell_type": "markdown",
   "id": "0b159f2d",
   "metadata": {},
   "source": [
    "### 1. Spectral interpretation for geologists\n",
    "\n",
    "Spectral data captures a huge amount of information about rock composition and fabric, but can be very difficult to interpret due to the complex processes involved. Interpretations generally take one of three different strategies:\n",
    "\n",
    "1. knowledge based: use understanding of mineral's spectral characteristics to map e.g. specific minerals.\n",
    "2. supervised: classify lithology or map mineral abundance based on (large) training datasets. \n",
    "3. unsupervised: identify spatial domains or clusterings that have similar spectral properties for e.g. data exploration.\n",
    "\n",
    "For most geological applications there is insufficient training data available for fully supervised approaches, so most applications use knowledge based and/or unsupervised approaches. The following section briefly summarieses some basic knowledge-based analyses and demonstrates them on the example data.\n",
    "\n",
    "#### Absorbtion features\n",
    "-----\n",
    "\n",
    "Knowledge based interpretations generally rely on the interpretation of spectral absorbtion features. These are distinct minima in a materials reflectance spectra caused by absorbtion (rather than reflection) of light at very specific wavelengths. By quantifying the position and (relative) depths of these features it is possible to estimate (typically in a relative sense) the e.g. abundance, composition and crystalinity of spectrally active minerals. \n",
    "\n",
    "In the SWIR range the most spectrally active minerals are phyllosilicates such as clay, chlorite and mica. These will be the focus of the following exercises."
   ]
  },
  {
   "cell_type": "code",
   "execution_count": null,
   "id": "4f89a621",
   "metadata": {},
   "outputs": [],
   "source": [
    "lib = io.load( 'test_data/library.csv' ) # load the spectral dataset\n",
    "fig,ax = lib.quick_plot(band_range=(2000.,2400.)) # plot it\n",
    "ax.set_xlim(2000.,2400.)\n",
    "ax.set_xticks(np.arange(2025,2400,25))\n",
    "ax.set_xticklabels(np.arange(2025,2400,25))\n",
    "ax.set_yticklabels([\"C\",\"B\",\"A\"]) # hide answers ;-)\n",
    "ax.set_xlabel(\"Wavelength (nm)\")\n",
    "fig.show()"
   ]
  },
  {
   "cell_type": "markdown",
   "id": "b3cc083a",
   "metadata": {},
   "source": [
    "Absorbtions in the SWIR range are commonly caused by *AlOH*, *FeOH* and *MgOH* bonds in phyllosilicate minerals. The position of these absorbtions is labelled on the above plot. White mica minerals and clays have a characteristic AlOH feature at ~2200 nm, while chlorite and amphibole minerals generally have absorbtions at ~2260 nm (FeOH). Most phyllosilicate minerals also have an absorbtion feature at ~2340 nm.\n",
    "\n",
    "\n",
    "-----\n",
    "**Exercise**: *Interpret the spectra in the spectral library from Corta Atalaya to identify the major spectrally active minerals in each sample. Which do you think contains chlorite? Which contains white mica? Does the position of the various absorbtion features vary? What could this indicate?*\n",
    "\n",
    "\n",
    "-----\n",
    "\n",
    "Large reference libraries containing the spectral signature of different minerals have been built by e.g. the USGS. These aid the manual (and automated) identification of minerals from their spectra. The USGS library can be conveniently searched using [iSpec](https://www.samthiele.science/app/iSpec/index.html).\n",
    "\n",
    "-----\n",
    "**Exercise**: *Use [iSpec](https://www.samthiele.science/app/iSpec/index.html) to check your interpretations of the spectra above. Do you think these spectra conclusively identify the minerals? What could explain the shift in AlOH position between samples A and B?*\n",
    "\n",
    "\n",
    "-----"
   ]
  },
  {
   "cell_type": "markdown",
   "id": "2f73342c",
   "metadata": {},
   "source": [
    "### Mapping features\n",
    "\n",
    "There are a wide range of methods for mapping minerals (and rock types) based on their characteristic absorbtion features. These include (1) band ratio techniques (2) minimum wavelength mapping and (3) spectral unmixing. \n",
    "\n",
    "We will explore methods (1) and (2) in the rest of this notebook.\n",
    "\n",
    "#### Band ratios\n",
    "--------\n",
    "\n",
    "Band ratios can be constructed to (among other things) measure the general slope of the spectra across specific regions. Absorbtion features will have a larger slope than spectrally flat (absorbtion-free) regions, and this slope will corellate with absorbtion depth. \n",
    "\n",
    "Hence, we can map the relative abundance of e.g. AlOH containing minerals (clays and white micas) using a band ratio between a reference wavelength (e.g. 2100 nm) and the absorbed wavelength (2200 nm). To increase signal to noise ratio it is also common practice to average several bands in the numerator and denominator of these band ratios.\n",
    "\n",
    "-------\n",
    "**Exercise**: *Use a band ratio to map the relative depth of the AlOH feature, and by proxy abundance of white-mica and clay minerals. Which of the hand samples do you think comes from the chlorite altered part of the deposit? Can you come up with a different band ratio that instead maps the chlorite?*"
   ]
  },
  {
   "cell_type": "code",
   "execution_count": null,
   "id": "c0498e58",
   "metadata": {},
   "outputs": [],
   "source": [
    "# load datasets to play with\n",
    "image = io.load( 'test_data/image.hdr' )\n",
    "cloud = io.load( 'test_data/hypercloud.ply' )\n",
    "cloud.decompress()"
   ]
  },
  {
   "cell_type": "code",
   "execution_count": null,
   "id": "11c49a5b",
   "metadata": {},
   "outputs": [],
   "source": [
    "from hylite.analyse import band_ratio # import the band ratio function\n",
    "\n",
    "br = band_ratio( image, 2110., 2200.) # band ratio = 2075 nm / 2200 nm\n",
    "fig,ax =br.quick_plot(0, cmap='cividis', vmin=1.0, vmax=1.8)\n",
    "cbar = fig.colorbar( ax.cbar, orientation='horizontal', shrink=0.5)\n",
    "cbar.set_label(\"AlOH index\")\n",
    "fig.show()"
   ]
  },
  {
   "cell_type": "code",
   "execution_count": null,
   "id": "29a5f680",
   "metadata": {},
   "outputs": [],
   "source": [
    "# also map the band ratio in the open pit using the hypercloud\n",
    "br = band_ratio( cloud, 2110., 2200.) # band ratio = 2075 nm / 2200 nm\n",
    "fig,ax =br.quick_plot(0, cloud.header.get_camera(0), cmap='cividis', \n",
    "                      fill_holes=True, vmin=1.0, vmax=1.8)\n",
    "cbar = fig.colorbar( ax.cbar, orientation='horizontal', shrink=0.5)\n",
    "cbar.set_label(\"AlOH index\")\n",
    "fig.show()"
   ]
  },
  {
   "cell_type": "markdown",
   "id": "9d25e101",
   "metadata": {},
   "source": [
    "------"
   ]
  },
  {
   "cell_type": "markdown",
   "id": "ea9c8b5e",
   "metadata": {},
   "source": [
    "### Hull corrections\n",
    "\n",
    "You may have already noticed that the absorbtion features in more reflective samples tend to be deeper than in less reflective ones. To help exaggerate these features, it is common to apply a *hull correction* to spectra to normalise the difference in reflectivity and exaggurate local absorbtions by removing long wavelength trends in the data.\n",
    "\n",
    "For example, if we apply a hull correction to our spectral library it is much easier to identify the FeOH absorbtion in the chloritic sample, as well as the shift in the position of the AlOH feature between the phengitic and muscovitic altered samples."
   ]
  },
  {
   "cell_type": "code",
   "execution_count": null,
   "id": "8078ed56",
   "metadata": {},
   "outputs": [],
   "source": [
    "from hylite.correct import get_hull_corrected # import hull correct function\n",
    "lib_hc = get_hull_corrected( lib, vb=False ) # apply the hull correction"
   ]
  },
  {
   "cell_type": "code",
   "execution_count": null,
   "id": "178b3f19",
   "metadata": {},
   "outputs": [],
   "source": [
    "fig,ax = lib_hc.quick_plot(band_range=(2000.,2400.)) # plot it\n",
    "ax.set_xlim(2000.,2400.)\n",
    "ax.set_xticks(np.arange(2025,2400,25))\n",
    "ax.set_xticklabels(np.arange(2025,2400,25))\n",
    "ax.set_xlabel(\"Wavelength (nm)\")\n",
    "fig.show()"
   ]
  },
  {
   "cell_type": "markdown",
   "id": "ad8212bc",
   "metadata": {},
   "source": [
    "As a side note, the `hc` flag in HyLibrary.quick_plot(...) can be used to quickly plot hull corrected spectral libraries; `get_hull_corrected` is more useful for correcting entire datasets before calculating e.g. band ratios."
   ]
  },
  {
   "cell_type": "code",
   "execution_count": null,
   "id": "c7779240",
   "metadata": {},
   "outputs": [],
   "source": [
    "lib.quick_plot(hc=True)"
   ]
  },
  {
   "cell_type": "markdown",
   "id": "77a557f5",
   "metadata": {},
   "source": [
    "----\n",
    "\n",
    "**Exercise**: *Apply a hull correction to the image dataset and then recalculate the band ratio map of AlOH absorbtion depth. Does this change the result much?*\n"
   ]
  },
  {
   "cell_type": "code",
   "execution_count": null,
   "id": "97582a5b",
   "metadata": {},
   "outputs": [],
   "source": [
    "# your funky code goes here"
   ]
  },
  {
   "cell_type": "markdown",
   "id": "937c9ac0",
   "metadata": {},
   "source": [
    "------\n",
    "\n"
   ]
  },
  {
   "cell_type": "markdown",
   "id": "3c4623f9",
   "metadata": {},
   "source": [
    "### Minimum wavelength maps\n",
    "\n",
    "For some minerals, the precise position of characteristic absorbtion features can be an excellent indicator of mineral composition. For example, phengitic and muscovitic micas can be discriminated based on the position of the AlOH feature, which varies between ~2190 and 2220 nm based on the mica composition. \n",
    "\n",
    "This sensitivity to the precise mineralogy of key indicator/alteration minerals is one of the key advantages of hyperspectral mapping in exploration, as these subtle changes are often difficult to detect using other methods. \n",
    "\n",
    "The most common method for mapping these changes (for e.g. alteration vectoring) is to fit an absorbtion feature (normally represented by a polynomial, gaussian or lorentzian function) to the observed spectra in order to more accurately resolve the exact position of the reflectance minima of interest. This is called *minimum wavelength mapping*, or MWL.\n",
    "\n",
    "*hylite* has a sophisticated toolset for fitting one or more gaussian features to a hyperspectral dataset, querying or filtering the results to get specific absorbtion features, and visualising the results. As an example, we will apply the MWL mapping technique to characterise chlorite and sericite alteration in the example hypercloud datset."
   ]
  },
  {
   "cell_type": "code",
   "execution_count": null,
   "id": "d802aca9",
   "metadata": {},
   "outputs": [],
   "source": [
    "from hylite.analyse import minimum_wavelength, colourise_mwl # import minimum wavelength mapping functions"
   ]
  },
  {
   "cell_type": "code",
   "execution_count": null,
   "id": "34bd32c2",
   "metadata": {},
   "outputs": [],
   "source": [
    "minimum_wavelength?"
   ]
  },
  {
   "cell_type": "code",
   "execution_count": null,
   "id": "39ca5c7a",
   "metadata": {},
   "outputs": [],
   "source": [
    "# when feature fitting it helps to smooth the spectra first, as this reduces the sensitivity of the \n",
    "# hull correction to noise\n",
    "cloud_smth = cloud.smooth_savgol(window=7, poly=2) "
   ]
  },
  {
   "cell_type": "code",
   "execution_count": null,
   "id": "296ad41b",
   "metadata": {},
   "outputs": [],
   "source": [
    "# calculate minimum wavelength map. Note that this can take a while.\n",
    "mwl = minimum_wavelength( cloud_smth, # data to map\n",
    "                          2140., # start of mapping range \n",
    "                          2380., # end of mapping range\n",
    "                          trend='hull', # apply hull correction to detrend data before fitting\n",
    "                          method='gauss', # fitting method. Change to 'minmax' for fast but (very) approximate result.\n",
    "                          n=4, # number of gaussian features to fit\n",
    "                          sym=False, # force features to be symmetric?\n",
    "                          minima=True, # look for minima, not maxima (maxima can be useful in the LWIR though)\n",
    "                          nthreads=-1 ) # use ncores - 1 threads"
   ]
  },
  {
   "cell_type": "markdown",
   "id": "5d1b86c4",
   "metadata": {},
   "source": [
    "The minimum wavelength function returns a special kind of HyCollection that contains values for the depth, position, and width(s) of each fitted gaussian feature. Before we analyse this further, it is useful to check the quality of the fitting and investigate the absorbtion features present in the dataset. This can be easily achieved  using the `mwl.quick_plot(...)` function."
   ]
  },
  {
   "cell_type": "code",
   "execution_count": null,
   "id": "25dc5956",
   "metadata": {},
   "outputs": [],
   "source": [
    "fig,ax = mwl.quick_plot(cam=cloud.header.get_camera(0))"
   ]
  },
  {
   "cell_type": "markdown",
   "id": "8f425f25",
   "metadata": {},
   "source": [
    "As MWL objects contains a stack of multiple features for each spectra in the dataset, we have developed a fairly flexible set of routines for easily querying this to extract single spectra. For example, the features can be sorted by depth or position, and specific feature attributes ('depth', 'pos', 'width', 'width1' or 'width2') extracted as follows:"
   ]
  },
  {
   "cell_type": "code",
   "execution_count": null,
   "id": "7dc36faf",
   "metadata": {},
   "outputs": [],
   "source": [
    "mwl.sortByDepth()\n",
    "d = mwl[0, 'pos'] # this will be a numpy slice containing the position of the deepest feature\n",
    "s = mwl[-1, 'pos'] # this will be a numpy slice containing the position of the shallowest feature\n",
    "\n",
    "fig,ax = plt.subplots(1,2,figsize=(10,4))\n",
    "ax[0].hist(d,bins=100)\n",
    "ax[0].set_title(\"Deepest feature position\")\n",
    "ax[1].hist(s,bins=100)\n",
    "ax[1].set_title(\"Shallowest feature position\")\n",
    "fig.show()"
   ]
  },
  {
   "cell_type": "markdown",
   "id": "c9d2a5b8",
   "metadata": {},
   "source": [
    "Similarly, we can extract the n'th deepest feature and visualise it using the `colourise_mwl` function. This has a variety of visualisation options, but by default maps feature position to hue and feature depth to brightness."
   ]
  },
  {
   "cell_type": "code",
   "execution_count": null,
   "id": "ce6ac10f",
   "metadata": {},
   "outputs": [],
   "source": [
    "leg.plot?"
   ]
  },
  {
   "cell_type": "code",
   "execution_count": null,
   "id": "b7266b9a",
   "metadata": {},
   "outputs": [],
   "source": [
    "cloud.quick_plot?"
   ]
  },
  {
   "cell_type": "code",
   "execution_count": null,
   "id": "5a5fc3f3",
   "metadata": {},
   "outputs": [],
   "source": [
    "fig,ax = plt.subplots(2,2,figsize=(15,8))\n",
    "ax = ax.ravel()\n",
    "for i,a in enumerate(ax):\n",
    "    rgb, leg = colourise_mwl( mwl[i], \n",
    "                             hue_map=(2140., 2380.), # this controls the wavelength -> colour mapping\n",
    "                             val_map=(0., 0.25), # this controls the depth -> brightness mapping\n",
    "                            )\n",
    "    a.set_title(\"Feature %d\" % i)\n",
    "    rgb.quick_plot( (0,1,2), cloud.header.get_camera(0), vmin=0., vmax=1., ax=a )\n",
    "    leg.plot(a, pos='lower left', s=(0.2,0.1) ) # plot special colorbar\n",
    "fig.tight_layout()\n",
    "fig.show()"
   ]
  },
  {
   "cell_type": "markdown",
   "id": "741cab0f",
   "metadata": {},
   "source": [
    "-------\n",
    "\n",
    "**Exercise**: Adapt the code above to instead plot features ordered by their position (hint: see `MWL.sortByPos(...)`). Which visualisation do you think is more useful?\n",
    "\n",
    "------"
   ]
  },
  {
   "cell_type": "code",
   "execution_count": null,
   "id": "d633f91f",
   "metadata": {},
   "outputs": [],
   "source": [
    "# put your code here"
   ]
  },
  {
   "cell_type": "markdown",
   "id": "4c5e3530",
   "metadata": {},
   "source": [
    "In addition to visualising all of the features in a dataset, we are often interested in getting attributes (e.g. position) associated with a specific feature. For example, plotting the precise position of the AlOH feature (located at ~2200 nm) can be a useful way of distinguishing the mineralogy of different clay and white mica minerals. This can be easily done using the `MWL.closest(...)` function:"
   ]
  },
  {
   "cell_type": "code",
   "execution_count": null,
   "id": "d54b9419",
   "metadata": {},
   "outputs": [],
   "source": [
    "F2200 = mwl.deepest(2180., 2230.) # get deepest feature in this range\n",
    "rgb, leg = colourise_mwl( F2200, hue_map=(2180., 2230.), val_map=(0., 0.25), )\n",
    "fig,ax = rgb.quick_plot( (0,1,2), cloud.header.get_camera(0), vmin=0., vmax=1., fill_holes=True, despeckle=False )\n",
    "leg.plot(ax, pos=(1.05,0.4), s=(0.2,0.1) ) # plot special colorbar\n",
    "fig.show()"
   ]
  },
  {
   "cell_type": "markdown",
   "id": "8bade5ae",
   "metadata": {},
   "source": [
    "-------\n",
    "**Exercise**: *Generate a minimum wavelength map for the image showing the rock samples. Based on these results, where in the scene do you think they came from?*"
   ]
  },
  {
   "cell_type": "code",
   "execution_count": null,
   "id": "38534505",
   "metadata": {},
   "outputs": [],
   "source": [
    "# put your code here"
   ]
  },
  {
   "cell_type": "markdown",
   "id": "24eea4d6",
   "metadata": {},
   "source": [
    "-----\n",
    "### Towards data driven approaches\n",
    "\n",
    "Finally, unsupervised statistical and machine learning approaches can be used to explore the clustering of data in hyperspectral space and e.g. qualitatively identify lithological units (even if we don't specifically know what these are).\n",
    "\n",
    "These approaches rely on dimensionality reduction techniques that compress much of the data variability into as few bands as possible (e.g. principal component analysis). One commonly applied method is to calculate the *minimum noise fraction*, which is like a PCA but less sensitive to highly noisy data."
   ]
  },
  {
   "cell_type": "code",
   "execution_count": null,
   "id": "2e58b7c7",
   "metadata": {},
   "outputs": [],
   "source": [
    "from hylite.filter import MNF, PCA"
   ]
  },
  {
   "cell_type": "code",
   "execution_count": null,
   "id": "6d067828",
   "metadata": {},
   "outputs": [],
   "source": [
    "image.set_as_nan(0)"
   ]
  },
  {
   "cell_type": "code",
   "execution_count": null,
   "id": "fd6dec31",
   "metadata": {},
   "outputs": [],
   "source": [
    "mnf, w = MNF(image, output_bands=5) # calculate MNF filter from image\n",
    "fig,ax = mnf.quick_plot((0,1,2)) # map the first 3 bands. Note that these have no physical meaning anymore.\n",
    "fig.show()"
   ]
  },
  {
   "cell_type": "code",
   "execution_count": null,
   "id": "eca9bc96",
   "metadata": {},
   "outputs": [],
   "source": [
    "mnf, w = MNF(cloud, output_bands=5) # calculate MNF filter from hypercloud\n",
    "fig,ax = mnf.quick_plot((1,2,3), cloud.header.get_camera(0), \n",
    "                        fill_holes=True, despeckle=False) #note that these bands are NOT comparable to the previous figure!\n",
    "fig.show()"
   ]
  },
  {
   "cell_type": "markdown",
   "id": "bd5dc51d",
   "metadata": {},
   "source": [
    "These dimensionality reduced datasets can then be used for a wide variety of applications, including but not limited too endmember extraction, unsupervised classification and/or supervised machine learning. These are all beyond the scope of the current notebook, but may be addressed in subsequent ones.\n",
    "\n",
    "\n",
    "-----\n",
    "\n",
    "**Final exercise (advanced)**:*The MNF bands computed for the hyperspectral image are not comparable with the ones computed for the hypercloud, as this statistical approach generates the bands using a different combination of weights. Can you compute an MNF transform on the image data, and then apply it to the hypercloud dataset? Note that: (1) the MNF function returns the linear weights list (`w`) that were used to map the hyperspectral data onto each MNF bands; (2) specific bands can be extracted from the image dataset such that it has matching wavelengths (and number of bands) to the hypercloud dataset using `foo.export_bands(...)`. How comparable do you think the outputs are? Can you revise your guess as to where each of the samples came from?*\n"
   ]
  },
  {
   "cell_type": "code",
   "execution_count": null,
   "id": "fe81e5d7",
   "metadata": {},
   "outputs": [],
   "source": [
    "subset = image.export_bands( (cloud.get_wavelengths()[0], cloud.get_wavelengths()[-1]+5) ) #n.b. add 5 nm to get correct bands\n",
    "assert subset.band_count() == cloud.band_count()"
   ]
  },
  {
   "cell_type": "code",
   "execution_count": null,
   "id": "69050bf9",
   "metadata": {},
   "outputs": [],
   "source": [
    "mnf, w = MNF(subset) # calculate MNF on subset\n",
    "fig,ax = mnf.quick_plot((0,1,2))\n",
    "fig.show()"
   ]
  },
  {
   "cell_type": "code",
   "execution_count": null,
   "id": "3b47fb63",
   "metadata": {},
   "outputs": [],
   "source": [
    "mnf_cloud = cloud.copy(data=False) # make a copy of the hypercloud to store MNF transform in\n",
    "mnf_cloud.data = np.zeros( (mnf_cloud.point_count(), w.shape[0]))\n",
    "for i in range(w.shape[0]): # loop through output bands\n",
    "    mnf_cloud.data[:,i] = np.dot( cloud.data, w[i, :] ) # compute values using linear transform"
   ]
  },
  {
   "cell_type": "code",
   "execution_count": null,
   "id": "fef44a5f",
   "metadata": {},
   "outputs": [],
   "source": [
    "fig,ax = mnf_cloud.quick_plot((0,1,2), cloud.header.get_camera(0), fill_holes=True, despeckle=True)\n",
    "fig.show()"
   ]
  },
  {
   "cell_type": "markdown",
   "id": "0039f2b9",
   "metadata": {},
   "source": [
    "----"
   ]
  }
 ],
 "metadata": {
  "kernelspec": {
   "display_name": "Python 3",
   "language": "python",
   "name": "python3"
  },
  "language_info": {
   "codemirror_mode": {
    "name": "ipython",
    "version": 3
   },
   "file_extension": ".py",
   "mimetype": "text/x-python",
   "name": "python",
   "nbconvert_exporter": "python",
   "pygments_lexer": "ipython3",
   "version": "3.8.10"
  }
 },
 "nbformat": 4,
 "nbformat_minor": 5
}
