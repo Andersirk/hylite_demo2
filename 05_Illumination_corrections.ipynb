{
 "cells": [
  {
   "cell_type": "code",
   "execution_count": null,
   "metadata": {},
   "outputs": [],
   "source": [
    "import hylite\n",
    "from hylite import io, HyLibrary\n",
    "import numpy as np\n",
    "\n",
    "import matplotlib.pyplot as plt"
   ]
  },
  {
   "cell_type": "code",
   "execution_count": null,
   "metadata": {},
   "outputs": [],
   "source": [
    "%matplotlib inline"
   ]
  },
  {
   "cell_type": "markdown",
   "metadata": {},
   "source": [
    "Hyperspectral data that is collected outdoors (e.g. data acquired from a satellite, UAV or tripod) must be carefully corrected for the spectral signature of the various light-sources (e.g., sunlight, skylight) involved before accurate reflectance spectra can be estimated.\n",
    "\n",
    "*hylite* includes a variety of methods for doing this, from the commonly applied empirical line correction to more complicated approaches using multiple light sources and bidirectional reflectance distribution functions (BRDFs). The theory behind these topographic and atmospheric corrections (hereafter termed 'illumination corrections') are described in some detail [here](https://ieeexplore.ieee.org/stamp/stamp.jsp?arnumber=9507524) and [here](https://www.mdpi.com/2072-4292/14/1/5), but in the following notebook we give a more practical explanation of their application."
   ]
  },
  {
   "cell_type": "markdown",
   "metadata": {},
   "source": [
    "### 1. Forward modelling\n",
    "\n",
    "To explain the logic behind this illumination correction approach (and to avoid uploading yet more data ㋛ ), we will start by taking an already corrected hypercloud and then add topographic and atmospheric effects such that it simulates a radiance dataset as might be measured by a field spectrometer. Then, in the following section, we will correct it to arrive back at reflectance.\n",
    "\n",
    "First, lets load the hypercloud and put it and the relevant geometric information into HyImage instances. Note that in a real situation these geometric attributes are easilly accessible via the `HyScene` class."
   ]
  },
  {
   "cell_type": "code",
   "execution_count": null,
   "metadata": {},
   "outputs": [],
   "source": [
    "# load hypercloud dataset\n",
    "cloud = io.load( 'test_data/hypercloud.hdr' )\n",
    "cloud.decompress() # this was compressed from float to integer to save space; so we need to convert it back\n",
    "cam = cloud.header.get_camera(0) # viewing position (see Notebook 02 to derive this from field data)\n",
    "\n",
    "# render to 2D images\n",
    "refl = cloud.render(cam, bands=(0,-1))\n",
    "xyz = cloud.render(cam, 'xyz')\n",
    "normals = cloud.render(cam, 'klm')\n",
    "for img in [refl,xyz,normals]: # fill in small gaps between some points\n",
    "    img.fill_holes() \n",
    "    img.set_as_nan(0)\n",
    "\n",
    "# compute (normalised) view vectors\n",
    "view = xyz.copy(data=True)\n",
    "view.data -= cam.pos\n",
    "view.data /= np.linalg.norm(view.data, axis=-1)[...,None]\n",
    "\n",
    "# compute pixel depths\n",
    "depth = xyz.copy(data=True)\n",
    "depth.data -= cam.pos\n",
    "depth.data = np.linalg.norm(depth.data, axis=-1)[...,None]\n",
    "\n",
    "# plot everything\n",
    "fig,ax=plt.subplots(1,5,figsize=(20,6))\n",
    "refl.quick_plot(hylite.SWIR,ax=ax[0])\n",
    "xyz.quick_plot((0,1,2),ax=ax[1],tscale=True, vmin=5, vmax=95)\n",
    "normals.quick_plot((0,1,2),ax=ax[2])\n",
    "view.quick_plot((0,1,2),ax=ax[3], tscale=True, vmin=5, vmax=95)\n",
    "depth.quick_plot(0,cmap='coolwarm',ax=ax[4])\n",
    "for a,t in zip(ax,['a. SWIR','b. xyz','c. normals','d. view vector','e. depth']):\n",
    "    a.set_title(t)\n",
    "\n",
    "fig.show()\n",
    "fig.tight_layout()"
   ]
  },
  {
   "cell_type": "markdown",
   "metadata": {},
   "source": [
    "We will also add some virtual calibration panels to our scene, as would be done if acquiring field data. These will be used later to estimate and correct for illumination effects."
   ]
  },
  {
   "cell_type": "code",
   "execution_count": null,
   "metadata": {},
   "outputs": [],
   "source": [
    "# compute panel orientation\n",
    "n = np.nanmean( normals.data, axis=(0,1) ) # give this the average orientation of the cliff\n",
    "n = n / np.linalg.norm(n)\n",
    "\n",
    "# orientation of shaded panel\n",
    "ns = -np.array([1,-1.,-1.0]) # oriented so that it is not directly lit\n",
    "ns = ns / np.linalg.norm(ns)\n",
    "\n",
    "# depth of panels (average of outcrop)\n",
    "dd = np.nanmedian(depth.data)\n",
    "\n",
    "# add fake calibration panels for next sections\n",
    "pad = 5\n",
    "for yy,n,r,z in zip([(50,100),(100,150),(150,200)],[n,n,ns], [0.25, 0.5, 0.99 ], [dd,dd, 30. ] ):\n",
    "    h = int( (yy[1]-yy[0]) * 0.45 ) - pad\n",
    "    for y,_z in zip([yy[0]+pad,yy[1]-h-pad],[z,30.]): # split into two panels; when near the target, one near the sensor\n",
    "        refl.data[460:490,y:(y+h),:] = r # add panel to reflectance data\n",
    "        normals.data[460:490,y:(y+h),:] = n # add panel orientation\n",
    "        depth.data[460:490,y:(y+h),:] = _z # add far panel depth\n",
    "        view.data[460:490,y:(y+h),:] =  view.data[440,100,:]"
   ]
  },
  {
   "cell_type": "markdown",
   "metadata": {},
   "source": [
    "Although reality is far more complex, we will assume that our scene is lit by two light sources only; skylight and sunlight. Skylight is comes (we assume uniformly) from the entire upper-hemisphere (sky), while sunlight comes from an approximate point-source (the sun). The amount of reflected light will depend on the material reflectance factor at the relevant wavelength, and the amount and orientation of downwelling light:\n",
    "\n",
    "$$[ Eq. 1 ] \\space radiance = reflectance \\times ( skylight \\times \\alpha + sunlight \\times \\beta ) + path\\_radiance$$ \n",
    "\n",
    "$\\alpha$ and $\\beta$ are values that capture the effect of topography/geometry on the reflection, and depending on the model used, account for factors such as the incidence angle of the light source and roughness of the surface.\n",
    "\n",
    "The distribution of skylight across the scene depends on the amount of sky visible from each point, termed the 'sky view factor'. In real situations this should be calculated based on the scene geometry (e.g. using [CloudCompare](https://www.cloudcompare.org/doc/wiki/index.php?title=ShadeVis_(plugin))), but for this simple example we will use a simple approximation based only on the surface orientation (normal vector) to derive a value for $\\alpha$:"
   ]
  },
  {
   "cell_type": "code",
   "execution_count": null,
   "metadata": {},
   "outputs": [],
   "source": [
    "from hylite.correct.illumination import estimate_skyview\n",
    "skyview = xyz.copy(data=False)\n",
    "skyview.data = estimate_skyview( normals.data )[...,None]\n",
    "skyview.fill_holes()\n",
    "skyview.set_as_nan(0)\n",
    "\n",
    "fig,ax = skyview.quick_plot(0,cmap='gray', vmin=0, vmax=1., figsize=(12,7))\n",
    "ax.set_title(\"Estimated skyview factor\")\n",
    "fig.colorbar(ax.cbar, orientation='vertical', shrink=0.5) # add colorbar for reference\n",
    "fig.tight_layout()\n",
    "fig.show()"
   ]
  },
  {
   "cell_type": "markdown",
   "metadata": {},
   "source": [
    "The amount of sunlight that reflects to the hyperspectral sensor will depend on the incidence angle of the sunlight and the reflection distribution function. *hylite* currently has two different reflection distribution functions implemented: Lambert and Oren-Nayar. Both of these depend on the illumination direction, so we need to define the illumination direction. This can be calculated for any time and position thanks to the *astral* package."
   ]
  },
  {
   "cell_type": "code",
   "execution_count": null,
   "metadata": {},
   "outputs": [],
   "source": [
    "from hylite.correct.illumination import estimate_sun_vec\n",
    "sunvec,az,el = estimate_sun_vec(37.7, -6.6, (\"19/04/2019 12:28\",\"%d/%m/%Y %H:%M\", 'Europe/Madrid') )\n",
    "print(\"Sun orientation is %d->%d %s\" % (el, az, sunvec) )"
   ]
  },
  {
   "cell_type": "markdown",
   "metadata": {},
   "source": [
    "Lambert's law assumes a perfectly smooth surface, such that the light reflected in any direction will be equal to the cosine of the incidence angle. This is a poor approximation for most natural materials (e.g. rocks, plants), but is useful for calibration panels, which are engineered to be as close to lambertian as possible (more on this later). However, for completeness, we can calculate $\\beta$ using a lambertian model as follows:"
   ]
  },
  {
   "cell_type": "code",
   "execution_count": null,
   "metadata": {},
   "outputs": [],
   "source": [
    "from hylite.correct.illumination import calcLambert\n",
    "L = xyz.copy(data=False)\n",
    "L.data = calcLambert( normals.data, sunvec )\n",
    "\n",
    "fig,ax = L.quick_plot(0,cmap='gray', vmin=0, vmax=1., figsize=(12,7))\n",
    "ax.set_title(\"Lambertian reflectance factor\")\n",
    "fig.colorbar(ax.cbar, orientation='vertical', shrink=0.5) # add colorbar for reference\n",
    "fig.tight_layout()\n",
    "fig.show()"
   ]
  },
  {
   "cell_type": "markdown",
   "metadata": {},
   "source": [
    "The Oren-Nayar reflection model provides a better approximation for rocks and other materials with a rough surface. It assumes any point on a surface can be approximated by an infinite number of lambertian facets with a normally distribution orientation, defined by the roughness factor $\\sigma$. This roughness results in more reflected light than would be otherwise predicted by a Lambertian model. Also, unlike the Lambertian model, orientation of these facets relative to the viewing direction thus also becomes important, making the Oren-Nayar model a simple BRDF."
   ]
  },
  {
   "cell_type": "code",
   "execution_count": null,
   "metadata": {},
   "outputs": [],
   "source": [
    "from hylite.correct.illumination import calcOrenNayar\n",
    "ON = xyz.copy(data=False)\n",
    "ON.data = calcOrenNayar( normals.data, view.data, sunvec, roughness=0.2 )\n",
    "\n",
    "fig,ax = ON.quick_plot(0,cmap='gray', vmin=0, vmax=1., figsize=(12,7))\n",
    "ax.set_title(\"Oren-Nayar reflectance factor\")\n",
    "fig.colorbar(ax.cbar, orientation='vertical', shrink=0.5) # add colorbar for reference\n",
    "fig.tight_layout()\n",
    "fig.show()"
   ]
  },
  {
   "cell_type": "markdown",
   "metadata": {},
   "source": [
    "Assuming a known spectra for sunlight and skylight, and a constant path radiance, these estimated sky-view factors and Oren-Nayar reflectance coefficients can be combined to create a synthetic radiance dataset. For convenience, we have saved some realistic sun and skylight spectra in a HyLibrary in the example dataset, which we now load."
   ]
  },
  {
   "cell_type": "code",
   "execution_count": null,
   "metadata": {},
   "outputs": [],
   "source": [
    "I = io.load('test_data/illumination.hdr')\n",
    "fig,ax = I.quick_plot(color=['green','blue','gold'], figsize=(8,4))\n",
    "fig.show()"
   ]
  },
  {
   "cell_type": "code",
   "execution_count": null,
   "metadata": {},
   "outputs": [],
   "source": [
    "# multiply path radiance by per-pixel depth to simulate increasing path radiance with depth\n",
    "P = depth.copy(data=False)\n",
    "P.data = depth.data * I['path'].data / 1000. # convert depths from m to km\n",
    "P.set_wavelengths( I.get_wavelengths() )"
   ]
  },
  {
   "cell_type": "markdown",
   "metadata": {},
   "source": [
    "We can then generate a simulated radiance dataset using Eq. 1. For convenience, this has already been implemented *hylite* with the `IlluModel` class."
   ]
  },
  {
   "cell_type": "code",
   "execution_count": null,
   "metadata": {},
   "outputs": [],
   "source": [
    "from hylite.correct.illumination import IlluModel\n",
    "I = I.resample(refl.get_wavelengths(),vb=False) # resample onto same wavelength array as our reflectance data\n",
    "P = P.resample(refl.get_wavelengths(),vb=False)\n",
    "\n",
    "model = IlluModel( I = I['sun'].data.ravel(), # sunlight spectra\n",
    "                   S = I['sky'].data.ravel(), # skylight spectra\n",
    "                   P = P, # path radiance\n",
    "                   skv = skyview, # skyview factors\n",
    "                   rf = ON, # reflectance factors\n",
    "                   oc = None, # for this simple example we assume no projective shadows\n",
    "                 )\n",
    "\n",
    "# evaluate radiance and plot it\n",
    "radiance = refl.copy(data = False )\n",
    "radiance.data = model.getRadiance( refl)"
   ]
  },
  {
   "cell_type": "code",
   "execution_count": null,
   "metadata": {},
   "outputs": [],
   "source": [
    "fig,ax = plt.subplots(1,2, figsize=(18,6), gridspec_kw={'width_ratios': [2, 1]})\n",
    "samples = [(200,200), (400,100), (475,65), (475,115), (475,165) ]\n",
    "cols = ['red', 'orange', 'green', 'gold', 'blue' ]\n",
    "ax[0].set_title(\"Radiance image\")\n",
    "radiance.quick_plot(hylite.SWIR, ax=ax[0],vmin=0,vmax=99, samples=samples, ps=15,pc=cols, ticks=True)\n",
    "ax[1].set_title(\"Radiance spectra\")\n",
    "radiance.plot_spectra(ax=ax[1], indices=samples, colours=cols)\n",
    "ax[1].set_ylabel(r\"Radiance ($\\frac{W}{nm \\cdot m^{2} \\cdot sr }$)\")\n",
    "fig.tight_layout()\n",
    "fig.show()"
   ]
  },
  {
   "cell_type": "markdown",
   "metadata": {},
   "source": [
    "Note the number of atmospheric absorbtion features that now exist in the radiance spectra - these highlight why it is so important to convert to reflectance before making spectral interpretations or classifications.\n",
    "\n",
    "### 2. Calibration panels\n",
    "\n",
    "Finally, to complete our simulated field dataset, we will extract the radiance spectra from three calibration panels. Two of these are placed in the scene with reflectance 5% and 50%, and the third is placed next to the sensor (no path radiance) and shaded to block any downwelling sunlight. These are placed in a `Panel` class to facilitate processing in the next section. \n",
    "\n",
    "-----------\n",
    "*Note that `Panel` instances can be easily created for real data by picking the corners of the imaged calibration panels. See `Panel.__init__(...)` for details. These corners can also be used for estimating panel orientation (assuming it is square and the viewing geometry is known), \n",
    "and hence other important properties (skyview factor, incidence angle) -  see `Panel.get_normal(...)`* \n",
    "\n",
    "----"
   ]
  },
  {
   "cell_type": "code",
   "execution_count": null,
   "metadata": {},
   "outputs": [],
   "source": [
    "from hylite.correct.illumination import Panel\n",
    "from hylite.reference.spectra import Target\n",
    "\n",
    "# evaluate panel radiance using a lambert reflectance model\n",
    "pr = IlluModel( I = I['sun'].data.ravel(), S = I['sky'].data.ravel(),\n",
    "                   P = P, skv = skyview, rf = L, oc = None ).getRadiance( refl )\n",
    "\n",
    "\n",
    "R25_far = Panel( Target(refl.get_wavelengths(), np.ones(refl.band_count())*0.25, name='R25'), # define panel material\n",
    "            pr[475,65,:], wavelengths=radiance.get_wavelengths() )\n",
    "R25_close = Panel( Target(refl.get_wavelengths(), np.ones(refl.band_count())*0.25, name='R25'), # define panel material\n",
    "            pr[475,85,:], wavelengths=radiance.get_wavelengths() )\n",
    "\n",
    "R50_far = Panel( Target(refl.get_wavelengths(), np.ones(refl.band_count())*0.5, name='R50'), # define panel material\n",
    "            pr[475,115,:], wavelengths=radiance.get_wavelengths() )\n",
    "R50_close = Panel( Target(refl.get_wavelengths(), np.ones(refl.band_count())*0.5, name='R50'), # define panel material\n",
    "            pr[475,135,:], wavelengths=radiance.get_wavelengths() )\n",
    "\n",
    "R99_shade = Panel( Target(refl.get_wavelengths(), np.ones(refl.band_count())*0.99, name='R99'), # define panel material\n",
    "            pr[475,165,:], wavelengths=radiance.get_wavelengths() )\n",
    "\n",
    "# add skyview and reflectance factor attributes. These can be calculated for real panels (with known orientations).\n",
    "for p in [R25_far,R25_close,R50_far,R50_close]:\n",
    "    p.skyview = skyview.data[475,85,0]\n",
    "    p.alpha = L.data[475,85,0]\n",
    "R99_shade.skyview = skyview.data[475,135,0] # skyview panel has different skyview\n",
    "    "
   ]
  },
  {
   "cell_type": "code",
   "execution_count": null,
   "metadata": {},
   "outputs": [],
   "source": [
    "fig,ax = plt.subplots(figsize=(10,5))\n",
    "for R,c in zip( [R25_far,R50_far,R99_shade],['darkgray','lightgray','blue']):\n",
    "    ax.plot(R.get_wavelengths(), R.get_mean_radiance(), color=c)\n",
    "ax.set_ylabel('Measured Radiance')\n",
    "fig.show()"
   ]
  },
  {
   "cell_type": "markdown",
   "metadata": {},
   "source": [
    "Note that as we are only dealing with SWIR spectra the skylight illumination is very low; our calibration spectra would look very different if we were using VNIR data.\n",
    "\n",
    "### 3. Empirical line correction\n",
    "\n",
    "The simplest topographic correction is the empirical line correction, or ELC. This assumes a constant illumination spectra across the scene, which is reconstructed by fitting a line to the calibration panels and used to convert the radiance to reflectance. This can be done in *hylite* using the `ELC` class, providing one or more calibration panels are available."
   ]
  },
  {
   "cell_type": "code",
   "execution_count": null,
   "metadata": {},
   "outputs": [],
   "source": [
    "from hylite.correct.illumination import ELC\n",
    "elc = ELC([R25_far, R50_far]) # N.B we exclude the shaded panel from this as it would screw everything up\n",
    "fig,ax = elc.quick_plot(thresh=100, figsize=(7,5))\n",
    "fig.show()"
   ]
  },
  {
   "cell_type": "code",
   "execution_count": null,
   "metadata": {},
   "outputs": [],
   "source": [
    "reflectance = radiance.copy(data=True) # create copy of data\n",
    "_ = elc.apply(reflectance) # apply ELC\n",
    "\n",
    "fig,ax = plt.subplots(1,2, figsize=(18,5))\n",
    "ax[0].set_title(\"ELC corrected reflectance\")\n",
    "reflectance.plot_spectra(ax=ax[0], indices=samples[:2], colours=cols[:2])\n",
    "ax[1].set_title(\"Original reflectance\")\n",
    "refl.plot_spectra(ax=ax[1], indices=samples[:2], colours=cols[:2])\n",
    "fig.show()"
   ]
  },
  {
   "cell_type": "markdown",
   "metadata": {},
   "source": [
    "In this instance the ELC worked quite well using the panels placed 'on the target' such that they could properly account for path radiance (which is intentionally quite large in this example). However if we calculate and plot the residuals we can see that a significant topographic component remains."
   ]
  },
  {
   "cell_type": "code",
   "execution_count": null,
   "metadata": {},
   "outputs": [],
   "source": [
    "resid = np.mean( np.abs( reflectance.data / refl.data), axis=-1)\n",
    "plt.figure(figsize=(10,5))\n",
    "cm = plt.imshow(resid.T, cmap='coolwarm', vmin=0, vmax=2)\n",
    "plt.xticks([])\n",
    "plt.yticks([])\n",
    "plt.title(\"Topographic residual\")\n",
    "plt.colorbar(cm, shrink=0.5)\n",
    "plt.show()"
   ]
  },
  {
   "cell_type": "markdown",
   "metadata": {},
   "source": [
    "If we use the panels that were close to the sensor (it is not uncommon that it is impossible to place panels on the target due to distance or access constraints), then the ELC completely fails and results in unusable spectra."
   ]
  },
  {
   "cell_type": "code",
   "execution_count": null,
   "metadata": {},
   "outputs": [],
   "source": [
    "from hylite.correct.illumination import ELC\n",
    "elc = ELC([R25_close, R50_close]) # N.B we exclude the shaded panel from this as it would screw everything up\n",
    "fig,ax = elc.quick_plot(thresh=100, figsize=(7,5))\n",
    "fig.show()"
   ]
  },
  {
   "cell_type": "code",
   "execution_count": null,
   "metadata": {},
   "outputs": [],
   "source": [
    "reflectance = radiance.copy(data=True) # create copy of data\n",
    "_ = elc.apply(reflectance) # apply ELC\n",
    "\n",
    "fig,ax = plt.subplots(1,2, figsize=(18,5))\n",
    "ax[0].set_title(\"ELC corrected reflectance\")\n",
    "reflectance.plot_spectra(ax=ax[0], indices=samples[:2], colours=cols[:2])\n",
    "ax[1].set_title(\"Original reflectance\")\n",
    "refl.plot_spectra(ax=ax[1], indices=samples[:2], colours=cols[:2])\n",
    "fig.show()"
   ]
  },
  {
   "cell_type": "code",
   "execution_count": null,
   "metadata": {},
   "outputs": [],
   "source": [
    "resid = np.mean( np.abs( reflectance.data / refl.data), axis=-1)\n",
    "plt.figure(figsize=(10,5))\n",
    "cm = plt.imshow(resid.T, cmap='coolwarm', vmin=0, vmax=2)\n",
    "plt.xticks([])\n",
    "plt.yticks([])\n",
    "plt.title(\"Topographic residual\")\n",
    "plt.colorbar(cm, shrink=0.5)\n",
    "plt.show()"
   ]
  },
  {
   "cell_type": "markdown",
   "metadata": {},
   "source": [
    "In these cases, it is clearly necessary to take a different approach. In the following section, we use the panel spectra and the illumination model shown in Eq. 1 to empirically estimate the skylight, sunlight and path-radiance spectra from the panels to derive a more robust illumination correction."
   ]
  },
  {
   "cell_type": "markdown",
   "metadata": {},
   "source": [
    "### 4. Back-calculated illumination\n",
    "\n",
    "We back calculate the illumination spectra by solving a linear system constructed that gives the measured radiance for each panel from their known reflectance values and unknown illumination spectra. Please refer to [Thiele et al., 2022](https://www.mdpi.com/2072-4292/14/1/5) for further details."
   ]
  },
  {
   "cell_type": "code",
   "execution_count": null,
   "metadata": {},
   "outputs": [],
   "source": [
    "# construct observations vector\n",
    "B = np.array([ R25_close.get_mean_radiance(), R50_close.get_mean_radiance(), R99_shade.get_mean_radiance()] )\n",
    "\n",
    "# construct linear system using known reflectance as coefficients\n",
    "A = np.zeros((3,3,radiance.band_count()))\n",
    "A[0,0] = R25_close.get_reflectance() * R25_close.skyview # skylight component of black panel\n",
    "A[0,1] = R25_close.get_reflectance() * R25_close.alpha # sunlight component of black panel\n",
    "A[0,2] = 30. # distance to panel (to resolve path radiance per meter)\n",
    "A[1,0] = R50_close.get_reflectance() * R50_close.skyview # skylight component of black panel\n",
    "A[1,1] = R50_close.get_reflectance() * R50_close.alpha # sunlight component of black panel\n",
    "A[1,2] = 30. # distance to panel (to resolve path radiance per meter)\n",
    "A[2,0] = R99_shade.get_reflectance() * R99_shade.skyview # skylight component of shaded panel\n",
    "A[2,1] = 0 # reflected component is zero here\n",
    "A[2,2] = 30. # distance to panel (to resolve path radiance per meter)\n",
    "\n",
    "# solve it with numpy\n",
    "skylight,sunlight,pathrad = np.linalg.solve( np.transpose(A, (2,0,1)), B.T ).T"
   ]
  },
  {
   "cell_type": "code",
   "execution_count": null,
   "metadata": {},
   "outputs": [],
   "source": [
    "# make pretty plot\n",
    "fig, ax = plt.subplots(1,2,figsize=(10,4),sharex=True, sharey=True)\n",
    "ax = ax.ravel()\n",
    "\n",
    "x = np.array(radiance.get_wavelengths())\n",
    "\n",
    "ax[0].set_title(\"a. Flight A (panel spectra)\")\n",
    "ax[0].plot( x, R50_close.get_mean_radiance(), color='gray', lw=2, label='gray panel (50%)') # gray panel mean spectra\n",
    "ax[0].plot( x, R25_close.get_mean_radiance(), color='black', lw=2, label='black panel (25%)') # black panel mean spectra\n",
    "ax[0].plot( x, R99_shade.get_mean_radiance(), color='blue', lw=1, linestyle='--', label='shaded panel (90%)' ) # shaded panel\n",
    "ax[0].set_ylabel(r\"Radiance ($\\frac{W}{nm \\cdot m^{2} \\cdot sr }$)\")\n",
    "ax[0].legend()\n",
    "\n",
    "ax[1].set_title(\"d. Flight B (estimated illumination)\")\n",
    "ax[1].plot( x, sunlight, color='gold', lw=4, label='sunlight')\n",
    "ax[1].plot( x, skylight, color='blue', lw=2, label='skylight')\n",
    "ax[1].plot( x, pathrad*1000, color='gray', lw=1, linestyle='--', label='1km path radiance' )\n",
    "ax[1].legend()\n",
    "\n",
    "fig.tight_layout()\n",
    "fig.show()"
   ]
  },
  {
   "cell_type": "markdown",
   "metadata": {},
   "source": [
    "These spectra can then be combined with our geometric data to build a reflection model and thus correct the illumination effects across the scene."
   ]
  },
  {
   "cell_type": "code",
   "execution_count": null,
   "metadata": {},
   "outputs": [],
   "source": [
    "# multiply path radiance by per-pixel depth account for increasing radiance with depth\n",
    "P_est = depth.copy(data=False)\n",
    "P_est.data = depth.data * pathrad.data\n",
    "P_est.set_wavelengths( radiance.get_wavelengths() )\n",
    "\n",
    "# build illumination model using known geometry and estimated spectra\n",
    "model = IlluModel( I = sunlight, # sunlight spectra\n",
    "                   S = skylight, # skylight spectra\n",
    "                   P = P_est, # path radiance\n",
    "                   skv = skyview, # skyview factors\n",
    "                   rf = ON, # reflectance factors\n",
    "                   oc = None, # for this simple example we assume no projective shadows\n",
    "                 )\n",
    "\n",
    "# use it to convert radiance to estimated reflectance\n",
    "reflectance = radiance.copy(data=False)\n",
    "reflectance.data = model.getReflectance(radiance)"
   ]
  },
  {
   "cell_type": "code",
   "execution_count": null,
   "metadata": {},
   "outputs": [],
   "source": [
    "fig,ax = plt.subplots(1,2, figsize=(18,5))\n",
    "ax[0].set_title(\"Illumination corrected reflectance\")\n",
    "reflectance.plot_spectra(ax=ax[0], indices=samples[:2], colours=cols[:2])\n",
    "ax[1].set_title(\"Original reflectance\")\n",
    "refl.plot_spectra(ax=ax[1], indices=samples[:2], colours=cols[:2])\n",
    "fig.show()"
   ]
  },
  {
   "cell_type": "code",
   "execution_count": null,
   "metadata": {},
   "outputs": [],
   "source": [
    "resid = np.mean( np.abs( reflectance.data / refl.data), axis=-1)\n",
    "plt.figure(figsize=(10,5))\n",
    "cm = plt.imshow(resid.T, cmap='coolwarm', vmin=0, vmax=2)\n",
    "plt.xticks([])\n",
    "plt.yticks([])\n",
    "plt.title(\"Topographic residual\")\n",
    "plt.colorbar(cm, shrink=0.5)\n",
    "plt.show()"
   ]
  },
  {
   "cell_type": "markdown",
   "metadata": {},
   "source": [
    "Now, obviously we cheated in this example by using the same model to create our synthetic dataset as we used to correct it, but hopefully it serves as an illustrative example of how the methods in *hylite* can be used to extract information from calibration panels, estimate illumination spectra, combine them with geometric attributes to create an illumination model and, finally, derive corrected reflectance spectra.\n",
    "\n",
    "Does it work on real data? Sometimes... just give it a try! \n",
    "\n",
    "¯\\\\_(ツ)_/¯"
   ]
  },
  {
   "cell_type": "markdown",
   "metadata": {},
   "source": [
    "### 5. Statistical adjustments\n",
    "\n",
    "In the real world, the illumination model (and resulting correcting) is always wrong. Hopefully it is a useful estimate that gets close to the actual reflectance, but often it doesn't.\n",
    "\n",
    "Inspired by the `cfactor` algorithm for topographic correction, *hylite* includes a method for applying statistical adjustments to the correction factors. This calculates the correlation between modelled illumination and measured radiance, and then calculates an adjustment factor such that the regression line passes through the origin (as zero illumination should result in 0 at-target radiance). Like the original c-factor correction, this takes two forms; one which adds or removes path radiance until the regression passes through the origin, and the other that adds or removes downwelling light to achieve the same. \n",
    "\n",
    "First, lets build a simple illumination model that is roughly equivalent to the ELC and plot it."
   ]
  },
  {
   "cell_type": "code",
   "execution_count": null,
   "metadata": {},
   "outputs": [],
   "source": [
    "sunlight = R50_close.get_mean_radiance() / R50_close.get_reflectance() # will be approximately the sunlight\n",
    "model = IlluModel( I = sunlight, # sunlight spectra\n",
    "                   rf = ON, # reflectance factors\n",
    "                 )"
   ]
  },
  {
   "cell_type": "code",
   "execution_count": null,
   "metadata": {},
   "outputs": [],
   "source": [
    "# plot relationship between estimated downwelling illumination and measured reflected radiance\n",
    "fig,ax = model.plot_fit(radiance, nb=1)\n",
    "fig.show()"
   ]
  },
  {
   "cell_type": "code",
   "execution_count": null,
   "metadata": {},
   "outputs": [],
   "source": [
    "# fit a cfactor correction to the data\n",
    "model.fit(radiance, shift='y')\n",
    "fig,ax = model.plot_fit(radiance, nb=1)\n",
    "fig.show()"
   ]
  },
  {
   "cell_type": "markdown",
   "metadata": {},
   "source": [
    "The fitting results are stored in the model object as either a radiance boost `model.rboost` (if fitted using `shift='y'`) or illumination `model.iboost` (if fitted using `shift='x'`). These adjustments will now be applied when using the model to estimate reflectance:"
   ]
  },
  {
   "cell_type": "code",
   "execution_count": null,
   "metadata": {},
   "outputs": [],
   "source": [
    "# use it to convert radiance to estimated reflectance\n",
    "reflectance = radiance.copy(data=False)\n",
    "reflectance.data = model.getReflectance(radiance)"
   ]
  },
  {
   "cell_type": "code",
   "execution_count": null,
   "metadata": {},
   "outputs": [],
   "source": [
    "fig,ax = plt.subplots(1,2, figsize=(18,5))\n",
    "ax[0].set_title(\"Illumination corrected reflectance\")\n",
    "reflectance.plot_spectra(ax=ax[0], indices=samples[:2], colours=cols[:2])\n",
    "ax[1].set_title(\"Original reflectance\")\n",
    "refl.plot_spectra(ax=ax[1], indices=samples[:2], colours=cols[:2])\n",
    "fig.show()"
   ]
  },
  {
   "cell_type": "code",
   "execution_count": null,
   "metadata": {},
   "outputs": [],
   "source": [
    "resid = np.mean( np.abs( reflectance.data / refl.data), axis=-1)\n",
    "plt.figure(figsize=(10,5))\n",
    "cm = plt.imshow(resid.T, cmap='coolwarm', vmin=0, vmax=2)\n",
    "plt.xticks([])\n",
    "plt.yticks([])\n",
    "plt.title(\"Topographic residual\")\n",
    "plt.colorbar(cm, shrink=0.5)\n",
    "plt.show()"
   ]
  },
  {
   "cell_type": "markdown",
   "metadata": {},
   "source": [
    "These results are not great - an highlight the dangers of illumination corrections using regression based methods - but considering the illumination model we started with was very primitive (considering only estimated sunlight) it is still a big improvement (as compared to e.g. the ELC which also used the close panels). \n",
    "\n",
    "Hence, with real data it can be worth combining the illumination corrections descibed in Section 4 with these statistical adjustments; although the resulting spectra should be judged skeptically and ideally validated against in-situ methods."
   ]
  },
  {
   "cell_type": "code",
   "execution_count": null,
   "metadata": {},
   "outputs": [],
   "source": []
  }
 ],
 "metadata": {
  "kernelspec": {
   "display_name": "Python 3",
   "language": "python",
   "name": "python3"
  },
  "language_info": {
   "codemirror_mode": {
    "name": "ipython",
    "version": 3
   },
   "file_extension": ".py",
   "mimetype": "text/x-python",
   "name": "python",
   "nbconvert_exporter": "python",
   "pygments_lexer": "ipython3",
   "version": "3.8.10"
  }
 },
 "nbformat": 4,
 "nbformat_minor": 4
}
