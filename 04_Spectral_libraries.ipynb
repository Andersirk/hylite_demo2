{
 "cells": [
  {
   "cell_type": "code",
   "execution_count": null,
   "metadata": {},
   "outputs": [],
   "source": [
    "import hylite\n",
    "from hylite import io, HyLibrary\n",
    "import numpy as np\n",
    "\n",
    "import matplotlib.pyplot as plt"
   ]
  },
  {
   "cell_type": "code",
   "execution_count": null,
   "metadata": {},
   "outputs": [],
   "source": [
    "%matplotlib inline"
   ]
  },
  {
   "cell_type": "markdown",
   "metadata": {},
   "source": [
    "In addition to image and cloud datasets, it is common to build and work with libraries of individual spectra, either extracted from an image dataset (e.g. endmembers) or collected with portable or laboratory spectrometers (e.g. the USGS spectral library). \n",
    "\n",
    "Spectral libraries are represented in *hylite* as special kinds of images, in which each column of pixels represents a sample and each row a single measurement associated with it. Thus, the HyLibrary object contains a data array that is indexed as: ```lib.data[ sample, measurement, band ]```. Note that if some samples contain less measurements than others then some samples may be padded with nan values to ensure the array has a consistent shape.\n",
    "\n",
    "In the following, we will create a spectral library from an image dataset, and then supplement it with spectra from the USGS library."
   ]
  },
  {
   "cell_type": "markdown",
   "metadata": {},
   "source": [
    "### Build a spectral library from scanned samples"
   ]
  },
  {
   "cell_type": "code",
   "execution_count": null,
   "metadata": {},
   "outputs": [],
   "source": [
    "# load image dataset\n",
    "image = io.load( 'test_data/image.hdr' )\n",
    "fig,ax=image.quick_plot(hylite.SWIR, figsize=(10,5), ticks=True)\n",
    "fig.show()"
   ]
  },
  {
   "cell_type": "code",
   "execution_count": null,
   "metadata": {},
   "outputs": [],
   "source": [
    "# label some seed pixels in each sample\n",
    "image.header.set_sample_points('A', [(50,30)])\n",
    "image.header.set_sample_points('B', [(150,30)])\n",
    "image.header.set_sample_points('C', [(225,30)])\n",
    "image.header['class names'] = ['A','B','C']"
   ]
  },
  {
   "cell_type": "code",
   "execution_count": null,
   "metadata": {},
   "outputs": [],
   "source": [
    "# expand labels using grab-cut\n",
    "from hylite.filter import label_blocks\n",
    "cls = label_blocks(image, s=5, # number of pixels to label outside of seed point\n",
    "                       epad=2,  # ignore these pixels near edges (can be dodgy sometimes)\n",
    "                       erode=2, # apply erode filter to avoid pixels near sample edges\n",
    "                       boost = 10, # boost contrast before labelling\n",
    "                       bands=hylite.SWIR, figsize=(10,5) )"
   ]
  },
  {
   "cell_type": "code",
   "execution_count": null,
   "metadata": {},
   "outputs": [],
   "source": [
    "# convert to spectral library\n",
    "from hylite.hylibrary import from_classification\n",
    "lib = from_classification( image, # image to take spectra from\n",
    "                           cls, # class labels defining each sample\n",
    "                          ignore=[0], # ignore 0 labels (these are background pixels)\n",
    "                          subsample=100) # randomly select 100 pixels from each sample"
   ]
  },
  {
   "cell_type": "markdown",
   "metadata": {},
   "source": [
    "This library can now be quickly plotted for e.g. visual interpretation:"
   ]
  },
  {
   "cell_type": "code",
   "execution_count": null,
   "metadata": {},
   "outputs": [],
   "source": [
    "fig,ax = lib.quick_plot(color=['r','g','b'], # colours for each sample spectra\n",
    "               clip=(5,50,90), # display median and shaded area between 5th and 90th percentile\n",
    "               figsize=(8,4)) \n",
    "fig.show()"
   ]
  },
  {
   "cell_type": "markdown",
   "metadata": {},
   "source": [
    "Often it is most informative to plot spectral libraries as hull-corrected spectra. While you can do this manually using the `get_hull_corrected(lib)`, hull correction has also been inbuilt into the quickplot function for convenience:"
   ]
  },
  {
   "cell_type": "code",
   "execution_count": null,
   "metadata": {},
   "outputs": [],
   "source": [
    "fig,ax = lib.quick_plot(color=['r','g','b'], # colours for each sample spectra\n",
    "               clip=(5,50,90), # display median and shaded area between 5th and 90th percentile\n",
    "               hc=True, # do hull correction\n",
    "               figsize=(8,4)) \n",
    "fig.show()"
   ]
  },
  {
   "cell_type": "markdown",
   "metadata": {},
   "source": [
    "### Load reference spectra from USGS library\n",
    "\n",
    "To help identify the likely minerals in these three samples, we will load some spectra from the USGS library. These can be downloaded in a simple text format from [here](https://crustal.usgs.gov/speclab/QueryAll07a.php), though some spectra have already been included in the example datasets.\n",
    "\n",
    "We will first load the mineral reflectance spectra and associated wavelengths using numpy:"
   ]
  },
  {
   "cell_type": "code",
   "execution_count": null,
   "metadata": {},
   "outputs": [],
   "source": [
    "ref = []\n",
    "for m in ['muscovite', 'chlorite']:\n",
    "    w = np.loadtxt('test_data/minerals/%s_wav.txt'%m, skiprows=1) * 1000.\n",
    "    r = np.clip( np.loadtxt('test_data/minerals/%s.txt'%m, skiprows=1), 0, 1)\n",
    "    ref.append( HyLibrary( r[None,None,:], # reshape spectra to [ sample, measurement, bands ]\n",
    "                          lab=[m], # mineral name\n",
    "                          wav = w ) )# specify wavelengths\n",
    "musc,chl = ref\n",
    "print(\"Muscovite spectra has %d bands. Chlorite spectra has %d bands\" % (musc.band_count(), chl.band_count()))"
   ]
  },
  {
   "cell_type": "markdown",
   "metadata": {},
   "source": [
    "You will notice that the muscovite and chlorite spectra here were sampled using different instruments and so have different spectral resolution. As a result, we need to resample them so that they can be combined into a single spectral library. The `HyData.resample` function makes this quite easy; to keep things simple, we will resample both libraries onto the same wavelength array as our sample spectra to allow direct comparisons."
   ]
  },
  {
   "cell_type": "code",
   "execution_count": null,
   "metadata": {},
   "outputs": [],
   "source": [
    "# resample and combine HyLibraries\n",
    "ref = musc.resample( lib.get_wavelengths(), vb=False ) + chl.resample( lib.get_wavelengths(), vb=False )\n",
    "fig,ax = ref.quick_plot(hc=True, figsize=(8,4))\n",
    "fig.show()"
   ]
  },
  {
   "cell_type": "markdown",
   "metadata": {},
   "source": [
    "To finish off, we'll build a nice figure that compares our sample spectra with the reference ones. Can you tell which samples contain which minerals? ¯\\_(ツ)_/¯"
   ]
  },
  {
   "cell_type": "code",
   "execution_count": null,
   "metadata": {},
   "outputs": [],
   "source": [
    "fig,ax = plt.subplots(2,2, figsize=(10,6))\n",
    "\n",
    "ax[0,0].set_title('a. Measured spectra')\n",
    "lib.quick_plot(ax=ax[0,0], color='k' )\n",
    "\n",
    "ax[0,1].set_title('b. Measured spectra (hull corrected)')\n",
    "lib.quick_plot(ax=ax[0,1], hc=True, color='k')\n",
    "\n",
    "ax[1,0].set_title('c. Reference minerals')\n",
    "ref.quick_plot(ax=ax[1,0], color=['gold', 'green'])\n",
    "\n",
    "ax[1,1].set_title('d. Reference minerals (hull corrected)')\n",
    "ref.quick_plot(ax=ax[1,1], hc=True, color=['gold', 'green'])\n",
    "\n",
    "fig.tight_layout()\n",
    "fig.show()\n"
   ]
  }
 ],
 "metadata": {
  "kernelspec": {
   "display_name": "Python 3",
   "language": "python",
   "name": "python3"
  },
  "language_info": {
   "codemirror_mode": {
    "name": "ipython",
    "version": 3
   },
   "file_extension": ".py",
   "mimetype": "text/x-python",
   "name": "python",
   "nbconvert_exporter": "python",
   "pygments_lexer": "ipython3",
   "version": "3.8.10"
  }
 },
 "nbformat": 4,
 "nbformat_minor": 4
}
