{
 "cells": [
  {
   "cell_type": "code",
   "execution_count": null,
   "id": "2ec5c27e",
   "metadata": {},
   "outputs": [],
   "source": [
    "import hylite\n",
    "from hylite import io\n",
    "import matplotlib.pyplot as plt\n",
    "import numpy as np"
   ]
  },
  {
   "cell_type": "code",
   "execution_count": null,
   "id": "145ec65d",
   "metadata": {},
   "outputs": [],
   "source": [
    "%matplotlib inline"
   ]
  },
  {
   "cell_type": "markdown",
   "id": "a5244061",
   "metadata": {},
   "source": [
    "### 1. Classification approaches\n",
    "\n",
    "Many (but not all) hyperspectral mapping tasks revolve around classification of e.g. lithology or metallurgical domains. Machine learning approaches can be applied to perform supervised and unsupervised classifications (these will be discussed tomorrow), but knowledge-based classifications can also be created using a decision tree. These can quickly become impractically complex, but for simple problems have the advantage that the results (and limitations thereof) are easy to understand. \n",
    "\n",
    "In the following we will build on the spectral features defined in the previous notebooks to classify sericitic and chloritic alteration at Corte Atalaya. Lets begin by loading the datasets:"
   ]
  },
  {
   "cell_type": "code",
   "execution_count": null,
   "id": "b1abcca9",
   "metadata": {},
   "outputs": [],
   "source": [
    "# load datasets to play with\n",
    "image = io.load( 'test_data/image.hdr' )\n",
    "cloud = io.load( 'test_data/hypercloud.ply' )"
   ]
  },
  {
   "cell_type": "markdown",
   "id": "b7ef30a9",
   "metadata": {},
   "source": [
    "And then recalculating AlOH and FeOH indices that correlate with sericite / chlorite abundance respectively:"
   ]
  },
  {
   "cell_type": "code",
   "execution_count": null,
   "id": "8a636874",
   "metadata": {},
   "outputs": [],
   "source": [
    "# AlOH index\n",
    "from hylite.analyse import band_ratio\n",
    "AlOH = band_ratio( cloud, 2110., 2200.) # band ratio = 2075 nm / 2200 nm\n",
    "fig,ax = AlOH.quick_plot(0, cloud.header.get_camera(0),cmap='cividis', \n",
    "                      fill_holes=True, vmin=1.0, vmax=1.8)\n",
    "cbar = fig.colorbar( ax.cbar, orientation='horizontal', shrink=0.5)\n",
    "cbar.set_label(\"AlOH index\")\n",
    "fig.show()"
   ]
  },
  {
   "cell_type": "code",
   "execution_count": null,
   "id": "504aee51",
   "metadata": {},
   "outputs": [],
   "source": [
    "# FeOH index\n",
    "from hylite.analyse import band_ratio\n",
    "FeOH = band_ratio( cloud, 2235., 2260.) # band ratio = 2075 nm / 2200 nm\n",
    "fig,ax = FeOH.quick_plot(0, cloud.header.get_camera(0), cmap='cividis', \n",
    "                      fill_holes=True, vmin=1.0, vmax=1.5)\n",
    "cbar = fig.colorbar( ax.cbar, orientation='horizontal', shrink=0.5)\n",
    "cbar.set_label(\"FeOH index\")\n",
    "fig.show()"
   ]
  },
  {
   "cell_type": "markdown",
   "id": "1e5eb514",
   "metadata": {},
   "source": [
    "### Decision trees\n",
    "\n",
    "Decision trees filter points / pixels based on a set of specific layers to determine class labels (which represent the leaves of the tree). For example, a conceptual tree can be built based on the above band ratios to distinguish chloritic and sericitic alteration:\n",
    "\n",
    "                        input \n",
    "                      /       \\\n",
    "                     /         \\\n",
    "    AlOH index:    low         high\n",
    "                   /  \\        /   \\ \n",
    "    FeOH index:  low   high   low   high\n",
    "                  |     |      |      |\n",
    "        Result: unalt. chl    ser    chl+ser\n",
    "                   \n",
    "Note that this is a binary tree (each layer of the tree is based on a binary decision). Highlight has a function to help construct and classify data using such binary trees. The first step is to decide on the thresholds that determine the difference between low and high. We can do this by creating some histograms:"
   ]
  },
  {
   "cell_type": "code",
   "execution_count": null,
   "id": "374e4f3f",
   "metadata": {},
   "outputs": [],
   "source": [
    "fig,ax = plt.subplots(1,2,figsize=(15,3)) # create matplotlib figure\n",
    "\n",
    "# define our threshold values\n",
    "AlOH_thresh = 1.25\n",
    "FeOH_thresh = 1.1\n",
    "\n",
    "# generate AlOH histogram\n",
    "ax[0].hist( AlOH.data.ravel(), bins=75, alpha=0.5 ) # plot histogram\n",
    "ax[0].set_title(\"AlOH index\") # add title\n",
    "ax[0].axvline(AlOH_thresh, color='r') # add vertical line showing proposed threshold\n",
    "ax[0].set_yticks([]) # remove vertical ticks\n",
    "\n",
    "# generate FeOH histogram\n",
    "ax[1].hist( FeOH.data.ravel(), bins=75, alpha=0.5 )\n",
    "ax[1].set_title(\"FeOH index\")\n",
    "ax[1].axvline(FeOH_thresh, color='r')\n",
    "ax[1].set_yticks([])\n",
    "fig.tight_layout()\n",
    "fig.show()"
   ]
  },
  {
   "cell_type": "markdown",
   "id": "3b643364",
   "metadata": {},
   "source": [
    "These results suggest that 1.25 and 1.1 are good thresholds for determining the presence/absence of significant AlOH and FeOH features respectively (for this dataset). Based on this we create boolean layers (containing True or False for each pixel) using numpy:"
   ]
  },
  {
   "cell_type": "code",
   "execution_count": null,
   "id": "83a5c5bf",
   "metadata": {
    "scrolled": true
   },
   "outputs": [],
   "source": [
    "hasAlOH = AlOH.data[..., 0] > AlOH_thresh # True if AlOH feature is present\n",
    "hasFeOH = FeOH.data[..., 0] > FeOH_thresh # True if FeOH feature is present\n",
    "\n",
    "# plot these boolean layers\n",
    "fig,ax = plt.subplots(1,2,figsize=(15,5))\n",
    "hylite.HyCloud( cloud.xyz, bands=hasAlOH[..., None] ).quick_plot( 0, cloud.header.get_camera(0), \n",
    "                                                                 fill_holes=True, ax=ax[0] )\n",
    "hylite.HyCloud( cloud.xyz, bands=hasFeOH[..., None] ).quick_plot( 0, cloud.header.get_camera(0), \n",
    "                                                                  fill_holes=True, ax=ax[1] )\n",
    "\n",
    "# do some housekeeping\n",
    "for a in ax:\n",
    "    a.set_xticks([])\n",
    "    a.set_yticks([])\n",
    "ax[0].set_title(\"Has AlOH feature\")\n",
    "ax[1].set_title(\"Has FeOH feature\")\n",
    "\n",
    "fig.tight_layout()\n",
    "fig.show()"
   ]
  },
  {
   "cell_type": "markdown",
   "id": "40cc5350",
   "metadata": {},
   "source": [
    "Now we just need to combine these layers to come up with a class label. Hylite has a `decision_tree` function that can help us do this."
   ]
  },
  {
   "cell_type": "code",
   "execution_count": null,
   "id": "e67199be",
   "metadata": {},
   "outputs": [],
   "source": [
    "from hylite.analyse import decision_tree"
   ]
  },
  {
   "cell_type": "code",
   "execution_count": null,
   "id": "59eb4917",
   "metadata": {},
   "outputs": [],
   "source": [
    "decision_tree?"
   ]
  },
  {
   "cell_type": "code",
   "execution_count": null,
   "id": "843aa078",
   "metadata": {},
   "outputs": [],
   "source": [
    "layers = [hasAlOH, hasFeOH] # define the layers of our tree\n",
    "labels = {(False,   False) : \"Unaltered\", # give leaves of the tree names\n",
    "          (True,    False) :  \"Sericite\",\n",
    "          (False,   True) :  \"Chlorite\",\n",
    "          (True,    True) :   \"Chl+Ser\",\n",
    "         }\n",
    "\n",
    "# apply this decision tree to dataset\n",
    "clf, lab = decision_tree( layers, labels )\n",
    "\n",
    "# and bind it to a new HyCloud instance\n",
    "clf = hylite.HyCloud( cloud.xyz, bands=clf[...,None] )"
   ]
  },
  {
   "cell_type": "markdown",
   "id": "aa0180e8",
   "metadata": {},
   "source": [
    "Using a few matplotlib tricks we can plot this as a pretty map!"
   ]
  },
  {
   "cell_type": "code",
   "execution_count": null,
   "id": "67e1345c",
   "metadata": {},
   "outputs": [],
   "source": [
    "from matplotlib.colors import ListedColormap\n",
    "cmap = ListedColormap(['white','gray','gold','green','cyan' ] )#note that the 'unknown' class is automatically added\n",
    "fig,ax = clf.quick_plot( 0, cloud.header.get_camera(0), cmap=cmap, vmin=-0.5, vmax=4.5, \n",
    "                        fill_holes=True, interpolation = 'nearest' )\n",
    "cm = fig.colorbar(ax.cbar, shrink=0.5)\n",
    "cm.ax.set_yticklabels(lab)\n",
    "ax.set_xticks([])\n",
    "ax.set_yticks([])\n",
    "fig.show()"
   ]
  },
  {
   "cell_type": "markdown",
   "id": "db4ea49b",
   "metadata": {},
   "source": [
    "And there's a quick and dirty geology map! You can see these results (using a slightly expanded decision tree) in 3-D here: https://tinyurl.com/ca-hypercloud. Further details can also be found in our publication at https://doi.org/10.1016/j.oregeorev.2021.104252.\n",
    "\n",
    "----\n",
    "**Exercise**: *Implement and apply this decision tree for the hand sample image also. Do the classification results make sense also for these laboratory scans? Or are different thresholds needed? Discuss.*\n",
    "\n",
    "---"
   ]
  },
  {
   "cell_type": "code",
   "execution_count": null,
   "id": "bc82aef2",
   "metadata": {},
   "outputs": [],
   "source": [
    " # add your funky code here!"
   ]
  },
  {
   "cell_type": "markdown",
   "id": "3b041fe1",
   "metadata": {},
   "source": [
    "----\n",
    "**Advanced Exercise**: *How sensitive is this classification to the thresholds chosen for each layer? Could there be better values? Could you vary these somehow to quantify classification uncertainty?*\n",
    "\n",
    "---"
   ]
  },
  {
   "cell_type": "code",
   "execution_count": null,
   "id": "abf8605a",
   "metadata": {},
   "outputs": [],
   "source": [
    " # add your funky code here!"
   ]
  }
 ],
 "metadata": {
  "kernelspec": {
   "display_name": "Python 3",
   "language": "python",
   "name": "python3"
  },
  "language_info": {
   "codemirror_mode": {
    "name": "ipython",
    "version": 3
   },
   "file_extension": ".py",
   "mimetype": "text/x-python",
   "name": "python",
   "nbconvert_exporter": "python",
   "pygments_lexer": "ipython3",
   "version": "3.8.10"
  }
 },
 "nbformat": 4,
 "nbformat_minor": 5
}
