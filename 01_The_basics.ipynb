{
 "cells": [
  {
   "cell_type": "code",
   "execution_count": null,
   "metadata": {},
   "outputs": [],
   "source": [
    "import hylite\n",
    "import numpy as np"
   ]
  },
  {
   "cell_type": "code",
   "execution_count": null,
   "metadata": {},
   "outputs": [],
   "source": [
    "%matplotlib inline"
   ]
  },
  {
   "cell_type": "markdown",
   "metadata": {},
   "source": [
    "### 1. Data types\n",
    "\n",
    "Hyperspectral data can take many forms. *hylite* uses polymorphic data structures to make analyses as generic and as smooth as possible, such that most analyses conducted on e.g. image data can also be executed on e.g. hypercloud data.\n",
    "\n",
    "Generally speaking, hyperspectral data comes in two forms: (1) spectral lists (e.g. spectral libraries, hyperclouds), or (2) spectral data cubes (e.g., hyperspectral images). *hylite* thus implements a generic `HyData` class that implements basic functions that are independent of spectral dimension, which is then extended in child classes to add specific functionality for different hyperspectral data types. These are:\n",
    "\n",
    "* HyImage - for hyperspectral image cubes.\n",
    "* HyCloud - for hypercloud data (spectra associated with spatially located points).\n",
    "* HyLibrary - for spectral library data.\n",
    "\n",
    "Additionally, collections of hyperspectral and associated data (e.g., geometry, illumination properties etc.) often need to be grouped together. This is simplified in *hylite* using a directory-like data structure *HyCollection* and its inheriting classes. \n",
    "\n",
    "In the following examples we will explore these data types and simple ways to interact with them."
   ]
  },
  {
   "cell_type": "markdown",
   "metadata": {},
   "source": [
    "---- \n",
    "\n",
    "**Exercise:** *Explore the documentation for the different data objects using the `?` operator*"
   ]
  },
  {
   "cell_type": "code",
   "execution_count": null,
   "metadata": {},
   "outputs": [],
   "source": [
    "from hylite import HyData, HyImage, HyCloud, HyLibrary, HyHeader, HyCollection, HyScene"
   ]
  },
  {
   "cell_type": "code",
   "execution_count": null,
   "metadata": {},
   "outputs": [],
   "source": [
    "HyImage?"
   ]
  },
  {
   "cell_type": "markdown",
   "metadata": {},
   "source": [
    "----"
   ]
  },
  {
   "cell_type": "markdown",
   "metadata": {},
   "source": [
    "### 2. Loading data\n",
    "\n",
    "Functions for loading and saving data a variety of data types are implemented in the *hylite.io* package. To keep your code simple, these can all be called via the generic *io.load* and *io.save* functions in most situations. File formats that can be read / written this way include:\n",
    "\n",
    "* **images**: *ENVI, .jpg, .png, .bmp, .tiff*\n",
    "* **point clouds**: *.ply, .laz* ( [CloudCompare](https://cloudcompare.org/) is a handy open-source tool for converting / manipulating point cloud data ). Hyperclouds with associated scalar data (e.g. spectra, geometric attributes etc.) can be stored in *.ply* format.\n",
    "* **HyCollection** and **HyScene** directories: *.hyc, .hys*\n",
    "* header files: *.hdr* (though note that data associated with a *.hdr* file will be loaded also; use load_header to open only the header file)\n",
    "* **spectral libraries**: *.csv, .sed*\n",
    "* **numpy arrays**: *.npy*\n"
   ]
  },
  {
   "cell_type": "markdown",
   "metadata": {},
   "source": [
    "-------------\n",
    "\n",
    " **Exercise:** Load some different file types.\n"
   ]
  },
  {
   "cell_type": "code",
   "execution_count": null,
   "metadata": {},
   "outputs": [],
   "source": [
    "# import IO functionality\n",
    "from hylite import io\n",
    "\n",
    "# open an ENVI image\n",
    "image = io.load( 'test_data/image.hdr' )\n",
    "\n",
    "# open a .ply point cloud\n",
    "cloud = io.load( 'test_data/hypercloud.ply' )\n",
    "cloud.decompress() # this was compressed from float to integer to save space; so we need to convert it back"
   ]
  },
  {
   "cell_type": "markdown",
   "metadata": {},
   "source": [
    "----------------"
   ]
  },
  {
   "cell_type": "markdown",
   "metadata": {},
   "source": [
    "### 3. Metadata and header files\n",
    "\n",
    "In keeping with the standard ENVI file format, metadata associated with hyperspectral datasets (e.g. band widths and wavelengths, acquisition parameters, etc.) can be stored in a simple text header (.hdr) file. We have extended  the amount of information that can be stored in headers to include e.g. calibration panel data (see *hylite.header.get_panel*) and camera pose information (see *hylite.header.get_camera*).\n",
    "\n",
    "All *hylite* data objects have a `foo.header` attribute that provides access to header data. This inherits from pythons inbuilt dictionary type, so specific keywords can be accessed or set using `foo.header['some_param']`. Note that keys and values in this dictionary are both stored as text (at least when the header is written to disk), so data types such as arrays need to be parsed using the appropriate function (e.g. *header.get_list*)."
   ]
  },
  {
   "cell_type": "markdown",
   "metadata": {},
   "source": [
    "---- \n",
    "\n",
    "**Exercise:** View header file contents and add / remove keys."
   ]
  },
  {
   "cell_type": "code",
   "execution_count": null,
   "metadata": {},
   "outputs": [],
   "source": [
    "cloud.header.print() # view the keys and associated data stored in the header file"
   ]
  },
  {
   "cell_type": "code",
   "execution_count": null,
   "metadata": {},
   "outputs": [],
   "source": [
    "#access data stored in the header file. Note that this is a string.\n",
    "print(cloud.header['bands'], type(cloud.header['bands'])) \n",
    "assert int(cloud.header['bands']) == cloud.band_count() # check value in header matches number of bands in dataset"
   ]
  },
  {
   "cell_type": "code",
   "execution_count": null,
   "metadata": {},
   "outputs": [],
   "source": [
    "# get a list from the header file as a numpy array\n",
    "wav = cloud.header.get_list('wavelength')\n",
    "print(\"Hyperspectral bands range from: %s nm - %s nm\" %( np.min(wav), np.max(wav)) )"
   ]
  },
  {
   "cell_type": "code",
   "execution_count": null,
   "metadata": {},
   "outputs": [],
   "source": [
    "# get camera pose information from the header file\n",
    "cam = cloud.header.get_camera(0)\n",
    "print(\"Sensor position is [%.1f,  %.1f,  %.1f] m\" % tuple(cam.pos))"
   ]
  },
  {
   "cell_type": "code",
   "execution_count": null,
   "metadata": {},
   "outputs": [],
   "source": [
    "# Add some random information to the header\n",
    "cloud.header['myname'] = 'Chuck'\n",
    "cloud.header['wavenumber'] = 1. / (wav*1e-7)"
   ]
  },
  {
   "cell_type": "code",
   "execution_count": null,
   "metadata": {},
   "outputs": [],
   "source": [
    "cloud.header.print()"
   ]
  },
  {
   "cell_type": "markdown",
   "metadata": {},
   "source": [
    "Note that these values will be saved on calling *io.save(...)*, providing an easy way to create persistent metadata."
   ]
  },
  {
   "cell_type": "markdown",
   "metadata": {},
   "source": [
    "----\n",
    "### 4. Hyperspectal data arrays\n",
    "\n",
    "Most hyperspectral analyses require some form of custom data munging, so the raw hyperspectral data arrays are left very exposed in *hylite*. Any `HyData` instance (including e.g. `HyImage` or `HyCloud` datasets) have a `foo.data` numpy array that contains the raw spectra. This provides easy access for processing, but can also make it easy to corrupt datasets - so use with care!\n",
    "\n",
    "The shape of the data array will vary from 2-D (id, band) for spectral libraries and hyperclouds to 3-D (x,y,band) for image cubes."
   ]
  },
  {
   "cell_type": "code",
   "execution_count": null,
   "metadata": {},
   "outputs": [],
   "source": [
    "print(cloud.data.shape, \"= (pointID, bandID)\")"
   ]
  },
  {
   "cell_type": "code",
   "execution_count": null,
   "metadata": {},
   "outputs": [],
   "source": [
    "print(image.data.shape, \"= (x,y,bandID)\")"
   ]
  },
  {
   "cell_type": "code",
   "execution_count": null,
   "metadata": {},
   "outputs": [],
   "source": [
    "image.data[ np.isnan( image.data ) ] = 0 # data arrays can be directly modified. Do this with care!"
   ]
  },
  {
   "cell_type": "markdown",
   "metadata": {},
   "source": [
    "------\n",
    "**Important note:** Hyperspectral bands can be referenced based on either their index (e.g. band number 10), or by the wavelength specified in the image metadata (e.g. 1000 nm). \n",
    "\n",
    "To seamlessly distinguish these two methods, hylite treats integer values (e.g., 1, 2, 1000) as indices and floating point values (e.g. 450.0, 750.0, 1000.0) as wavelengths (in the units defined in the header file, which are normally nanometers). \n",
    "\n",
    "**TLDR: Integers represent indices, floating point values represent wavelengths.**\n",
    "\n",
    "----\n",
    "\n",
    "Wavelengths can be converted to band indices using the `get_band_index` function, which returns the closest band to the specified wavelength."
   ]
  },
  {
   "cell_type": "code",
   "execution_count": null,
   "metadata": {},
   "outputs": [],
   "source": [
    "print(\"Index of 2200. nanometers in hypercloud:\", cloud.get_band_index(2200.0))"
   ]
  },
  {
   "cell_type": "code",
   "execution_count": null,
   "metadata": {},
   "outputs": [],
   "source": [
    "print(\"Index of 2200. nanometers in image:\", image.get_band_index(2200.0))"
   ]
  },
  {
   "cell_type": "markdown",
   "metadata": {},
   "source": [
    "Similarly, band indexes can be converted to wavelengths using the get_wavelengths() function, which returns an array containing the wavelength for each band."
   ]
  },
  {
   "cell_type": "code",
   "execution_count": null,
   "metadata": {},
   "outputs": [],
   "source": [
    "print( image.get_wavelengths()[18])"
   ]
  },
  {
   "cell_type": "markdown",
   "metadata": {},
   "source": [
    "Note that an error will be thrown if the difference between the requested wavelength and closest entry in the wavelength array is too large. This tolerance can be adjusted using the global *hylite.band_select_threshold* value."
   ]
  },
  {
   "cell_type": "code",
   "execution_count": null,
   "metadata": {},
   "outputs": [],
   "source": [
    "print( \"Provided wavelengths must be within %.1f nm of existing bands.\" % hylite.band_select_threshold )\n",
    "#image.get_band_index( 2410. ) # throws an error\n",
    "hylite.band_select_threshold = 20\n",
    "image.get_band_index( 2410. ) # does not throw an error"
   ]
  },
  {
   "cell_type": "markdown",
   "metadata": {},
   "source": [
    "Hyperclouds have several additional data arrays containing geometric attributes and (if defined) point colours and normal vectors. These can be accessed using:\n",
    "* `foo.xyz` (point positions)\n",
    "* `foo.rgb` (point colours from e.g. SfM model, if defined)\n",
    "* `foo.normals` (point normals, if defined)"
   ]
  },
  {
   "cell_type": "code",
   "execution_count": null,
   "metadata": {},
   "outputs": [],
   "source": [
    "print(\"Point #10 colour: \", cloud.rgb[10,:])\n",
    "print(\"Point #10 normal: \", cloud.normals[10,:])\n",
    "print(\"Point #10 position: \", cloud.xyz[10,:])"
   ]
  },
  {
   "cell_type": "markdown",
   "metadata": {},
   "source": [
    "### 5. Quick plotting\n",
    "\n",
    "Visualisation will be covered in detail in a subsequent notebook, but the quick_plot(...) provides a good example\n",
    "for the flexibility provided by these different indexing methods. \n",
    "\n",
    "-----"
   ]
  },
  {
   "cell_type": "code",
   "execution_count": null,
   "metadata": {},
   "outputs": [],
   "source": [
    "print( hylite.SWIR ) # some preset bands for false-colour visualisation with SWIR data. Note the floating point. "
   ]
  },
  {
   "cell_type": "code",
   "execution_count": null,
   "metadata": {},
   "outputs": [],
   "source": [
    "fig,ax = image.quick_plot(hylite.SWIR)\n",
    "fig.show()"
   ]
  },
  {
   "cell_type": "code",
   "execution_count": null,
   "metadata": {
    "scrolled": false
   },
   "outputs": [],
   "source": [
    "fig,ax = image.quick_plot( 0, cmap='coolwarm' ) # plot with band index\n",
    "fig.show()"
   ]
  },
  {
   "cell_type": "code",
   "execution_count": null,
   "metadata": {},
   "outputs": [],
   "source": [
    "fig,ax = image.quick_plot( 2340., cmap='coolwarm' ) # plot with wavelength\n",
    "fig.show()"
   ]
  },
  {
   "cell_type": "markdown",
   "metadata": {},
   "source": [
    "----"
   ]
  },
  {
   "cell_type": "markdown",
   "metadata": {},
   "source": [
    "Unlike images, hyperclouds can have per-point colours that are independent of the hyperspectral data (e.g. based on the SfM pointcloud used to capture hypercloud geometry). These can be accessed by plotting `'rgb'`.\n",
    "\n",
    "----\n",
    "\n",
    "**Exercise**: *Experiment with 'rgb', 'klm' (normal vectors) and 'xyz' colour renders. Also try rearranging the orders of the letters to generate different colour mappings*"
   ]
  },
  {
   "cell_type": "code",
   "execution_count": null,
   "metadata": {},
   "outputs": [],
   "source": [
    "fig,ax = cloud.quick_plot('rgb', cloud.header.get_camera(0), fill_holes=True)\n",
    "fig.show()"
   ]
  },
  {
   "cell_type": "code",
   "execution_count": null,
   "metadata": {},
   "outputs": [],
   "source": [
    "fig,ax = cloud.quick_plot('klm',cloud.header.get_camera(0), fill_holes=True)\n",
    "fig.show()"
   ]
  },
  {
   "cell_type": "markdown",
   "metadata": {},
   "source": [
    "Arbitrary visualisations of individual or ternary band combinations can also be easily created using *quick_plot*. Some convenient ternary combinations are included in `hylite.SWIR` and (if you have LWIR data) `hylite.LWIR`."
   ]
  },
  {
   "cell_type": "code",
   "execution_count": null,
   "metadata": {},
   "outputs": [],
   "source": [
    "fig,ax = cloud.quick_plot(hylite.SWIR, cloud.header.get_camera(0), fill_holes=True )\n",
    "fig.show()"
   ]
  },
  {
   "cell_type": "markdown",
   "metadata": {},
   "source": [
    "\n",
    "----\n",
    "\n",
    "**Exercise:** *Use the data visualisation tools to see if you can guess where in the hypercloud scene the rock samples pictured above (in the `image` variable) come from.*\n",
    "\n"
   ]
  },
  {
   "cell_type": "code",
   "execution_count": null,
   "metadata": {},
   "outputs": [],
   "source": [
    "# your funky code here!"
   ]
  },
  {
   "cell_type": "markdown",
   "metadata": {},
   "source": [
    "----"
   ]
  },
  {
   "cell_type": "markdown",
   "metadata": {},
   "source": [
    "### 6. Spectral libraries and spectral caterpillars  🐛"
   ]
  },
  {
   "cell_type": "markdown",
   "metadata": {},
   "source": [
    "It is often convenient to quickly summarise all of the spectra in a dataset. This can be done using the `foo.plot_spectra` function, which generates a *spectral caterpillar* defined by the median (black) and 5th, 25th, 75th and 95th percentiles of each band (grey envelopes). Specific point or pixel spectra can also be added using the `indices` argument."
   ]
  },
  {
   "cell_type": "code",
   "execution_count": null,
   "metadata": {},
   "outputs": [],
   "source": [
    "# plot a basic spectral caterpillar\n",
    "fig,ax = cloud.plot_spectra(indices=[108113,82475,326198], colours=['r','g','b'])\n",
    "fig.show()"
   ]
  },
  {
   "cell_type": "code",
   "execution_count": null,
   "metadata": {},
   "outputs": [],
   "source": [
    "# plot image and associated spectra\n",
    "pixels = [(50,30), (150,30), (230,30)]\n",
    "\n",
    "import matplotlib.pyplot as plt\n",
    "fig,ax = plt.subplots(1,2,figsize=(18,5))\n",
    "image.quick_plot(hylite.SWIR, ax=ax[0], ticks=True) # plot image to existing axes object, and plot x- and y- coords\n",
    "ax[0].scatter([p[0] for p in pixels], [p[1] for p in pixels], color=['r','g','b'])\n",
    "\n",
    "# add a spectral caterpillar\n",
    "image.plot_spectra(band_range=(2100.,2400.), indices=pixels, colours=['r','g','b'], ax=ax[1])\n",
    "fig.show()"
   ]
  },
  {
   "cell_type": "markdown",
   "metadata": {},
   "source": [
    "Spectral libraries can also be loaded and plotted for reference. These will be explored in detail in a subsequent notebook."
   ]
  },
  {
   "cell_type": "code",
   "execution_count": null,
   "metadata": {},
   "outputs": [],
   "source": [
    "lib = io.load( 'test_data/library.csv' )\n",
    "fig,ax = lib.quick_plot(band_range=(2000.,2500.))\n",
    "fig.show()"
   ]
  },
  {
   "cell_type": "markdown",
   "metadata": {},
   "source": [
    "### 7. Saving results\n",
    "\n",
    "Finally, once some form of processing has been achieved, data can be saved using the `io.save` function. This automatically determines the data type and generates the appropriate files."
   ]
  },
  {
   "cell_type": "code",
   "execution_count": null,
   "metadata": {},
   "outputs": [],
   "source": [
    "io.save?"
   ]
  },
  {
   "cell_type": "code",
   "execution_count": null,
   "metadata": {},
   "outputs": [],
   "source": [
    "out = image.copy() # make a copy of the dataset as otherwise we modify it inplace\n",
    "out.data = 1.0 - image.data # apply some voodoo magic\n",
    "\n",
    "# save our processed dataset\n",
    "io.save( './outputs/rocks.hdr', out )"
   ]
  },
  {
   "cell_type": "markdown",
   "metadata": {},
   "source": [
    "### 8. Organising data using *HyCollection*"
   ]
  },
  {
   "cell_type": "markdown",
   "metadata": {},
   "source": [
    "It is often also desirable to organise multiple related datasets (hyperspectral and otherwise) into one data structure. This can be achieved using the *HyCollection* instance, which provides an easy mapping between a directory storing data and variables in Python that you can load, manipulate and save."
   ]
  },
  {
   "cell_type": "code",
   "execution_count": null,
   "metadata": {},
   "outputs": [],
   "source": [
    "from hylite import HyCollection\n",
    "\n",
    "# initialise a collection\n",
    "C = HyCollection(\"MyCollection\", \"./outputs\" )\n",
    "\n",
    "# put some data in it\n",
    "C.image = image\n",
    "C.image_adj = out\n",
    "C.cloud = cloud\n",
    "C.random_array = np.random.rand(100) # N.B. this will be stored as an .npy file\n",
    "C.magicvalue = 42 # N.B. this will be stored in the HyCollection's header file\n",
    "C.astring = 'foo' # And so will this\n",
    "\n",
    "# save everything!\n",
    "C.save() # n.b. you can also save a collection to a different folder using io.save('somepath', C)"
   ]
  },
  {
   "cell_type": "markdown",
   "metadata": {},
   "source": [
    "Once created, data in a HyCollection can be easily reloaded using *io.load(...)*. Note that to save memory, each attribute of the HyCollection will not actually be loaded into memory until it is accessed the first time."
   ]
  },
  {
   "cell_type": "code",
   "execution_count": null,
   "metadata": {},
   "outputs": [],
   "source": [
    "C2 = io.load('./outputs/MyCollection.hdr')"
   ]
  },
  {
   "cell_type": "code",
   "execution_count": null,
   "metadata": {},
   "outputs": [],
   "source": [
    "C2.print() # see what is in this collection, and note that no data has actually been loaded yet"
   ]
  },
  {
   "cell_type": "code",
   "execution_count": null,
   "metadata": {},
   "outputs": [],
   "source": [
    "# access an attribute (and load it into memory)\n",
    "fig,ax = C2.image_adj.quick_plot( hylite.SWIR )\n",
    "fig.show()"
   ]
  },
  {
   "cell_type": "code",
   "execution_count": null,
   "metadata": {},
   "outputs": [],
   "source": [
    "C2.print() # the image has now been loaded into RAM"
   ]
  },
  {
   "cell_type": "code",
   "execution_count": null,
   "metadata": {},
   "outputs": [],
   "source": []
  }
 ],
 "metadata": {
  "kernelspec": {
   "display_name": "Python 3",
   "language": "python",
   "name": "python3"
  },
  "language_info": {
   "codemirror_mode": {
    "name": "ipython",
    "version": 3
   },
   "file_extension": ".py",
   "mimetype": "text/x-python",
   "name": "python",
   "nbconvert_exporter": "python",
   "pygments_lexer": "ipython3",
   "version": "3.8.10"
  }
 },
 "nbformat": 4,
 "nbformat_minor": 4
}
