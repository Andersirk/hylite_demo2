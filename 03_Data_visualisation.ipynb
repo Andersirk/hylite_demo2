{
 "cells": [
  {
   "cell_type": "code",
   "execution_count": null,
   "metadata": {},
   "outputs": [],
   "source": [
    "import hylite\n",
    "from hylite import io\n",
    "import numpy as np\n",
    "\n",
    "import matplotlib.pyplot as plt"
   ]
  },
  {
   "cell_type": "code",
   "execution_count": null,
   "metadata": {},
   "outputs": [],
   "source": [
    "%matplotlib inline"
   ]
  },
  {
   "cell_type": "markdown",
   "metadata": {},
   "source": [
    "Visualisation is an important part of checking, analysing and interpreting hyperspectral data. *hylite* uses matplotlib to rapidly generate visualisations that are highly customisable. While this can take a little getting used to, it allows production-ready figures to be created with a little experience. \n",
    "\n",
    "The following notebook shows some examples of how *hylite* can be used to create different false-colour visualisations of hyperspectral data. Subsequent notebooks show different methods for visualising more advanced analyses (e.g. minimum wavelength maps)."
   ]
  },
  {
   "cell_type": "code",
   "execution_count": null,
   "metadata": {},
   "outputs": [],
   "source": [
    "# load a dataset to work with\n",
    "cloud = io.load( 'test_data/hypercloud.ply' )\n",
    "cloud.decompress() # this was compressed from float to integer to save space; so we need to convert it back\n",
    "\n",
    "# convert it to an image for convenience (saves us rendering it every time)\n",
    "image = cloud.render( cloud.header.get_camera(0), (0,-1) ) # push point spectra onto image"
   ]
  },
  {
   "cell_type": "markdown",
   "metadata": {},
   "source": [
    "### 1. Quick_plot\n",
    "\n",
    "The quick plot function has a variety of settings that can be used to achieve many different visualisations. These include:\n",
    " * bfac, cfac = fudge-factors to tweak image brightness; output pixels are scaled using out = pixel*(1+cfac) + bfac\n",
    " * vmin, vmax = set the colour stretch. Integers are interpreted as percentiles, floats as defined clipping values.\n",
    " * tscale = Normalise bands independently if True. By default clipping is applied to the whole dataset.\n",
    " * rot, flipX, flipY = convenient flags for rotating the image by 90 degrees or flipping it.\n",
    " \n",
    "Lets start by exploring the role of cfac and bfac:"
   ]
  },
  {
   "cell_type": "code",
   "execution_count": null,
   "metadata": {},
   "outputs": [],
   "source": [
    "fig,ax = plt.subplots( 3,3, figsize=(10,5))\n",
    "\n",
    "for v,a in zip([-0.3,0.0,0.3], ax):\n",
    "    for v2,_a in zip([0,0.25,0.5],a):\n",
    "        image.quick_plot(hylite.SWIR, ax=_a, cfac=v2, bfac=v )\n",
    "        _a.set_title(\"bfac = %.2f, cfac = %.2f\" % (v,v2) )\n",
    "fig.tight_layout()\n",
    "fig.show()"
   ]
  },
  {
   "cell_type": "markdown",
   "metadata": {},
   "source": [
    "Similar changes in brightness/contrast can be achieved by changing the colour stretch (vmin and vmax values):"
   ]
  },
  {
   "cell_type": "code",
   "execution_count": null,
   "metadata": {},
   "outputs": [],
   "source": [
    "fig,ax = plt.subplots( 2,3, figsize=(12,5))\n",
    "\n",
    "for v,a in zip([False, True], ax):\n",
    "    for v2,_a in zip([0,5,10],a):\n",
    "        image.quick_plot(hylite.SWIR, ax=_a, vmin=v2, vmax=100-v2, tscale=v )\n",
    "        _a.set_title(\"clip = %d-%d (per band = %s)\" % (v2,100-v2, v) )\n",
    "fig.tight_layout()\n",
    "fig.show()"
   ]
  },
  {
   "cell_type": "markdown",
   "metadata": {},
   "source": [
    "### 2. Filtering and hole-filling\n",
    "\n",
    "Image data can also be quickly adjusted to reduce noise (median filter) or fill gaps (nearest neighbour) for plotting purposes."
   ]
  },
  {
   "cell_type": "code",
   "execution_count": null,
   "metadata": {},
   "outputs": [],
   "source": [
    "image2 = image.copy() # avoid changing original image\n",
    "\n",
    "fig,ax = plt.subplots( 1,3, figsize=(15,5))\n",
    "image2.quick_plot(hylite.SWIR, ax=ax[0])\n",
    "image2.fill_holes() # replace small holes with neighbour values\n",
    "image2.set_as_nan(0)\n",
    "image2.quick_plot(hylite.SWIR, ax=ax[1])\n",
    "image2.despeckle() # apply median filter smoothing\n",
    "image2.quick_plot(hylite.SWIR, ax=ax[2])\n",
    "\n",
    "for a,t in zip( ax,['Original', 'Holes filled', 'Despeckled'] ):\n",
    "    a.set_title(t)\n",
    "fig.tight_layout()\n",
    "fig.show()"
   ]
  },
  {
   "cell_type": "markdown",
   "metadata": {},
   "source": [
    "### Saturation enhancement\n",
    "\n",
    "For many visualisations, it can be useful to tweak the hue, saturation or value of the resulting data. *hylite* has some basic tools for doing this, and for more complex approaches matplotlib has several useful functions ( e.g., *rgb_to_hsv* and *hsv_to_rgb* )."
   ]
  },
  {
   "cell_type": "code",
   "execution_count": null,
   "metadata": {},
   "outputs": [],
   "source": [
    "from hylite.filter import boost_saturation\n",
    "\n",
    "enh = boost_saturation( image2, hylite.SWIR,\n",
    "                     flip = True, # invert colours [can make sense if high values = deep absorbtions]\n",
    "                     sat=0.5, # fix saturation\n",
    "                     val=0.5, # fix brightness\n",
    "                     clip = (1,99), # colour stretch\n",
    "                     per_band=True, # apply clip per band\n",
    "                     )\n",
    "\n",
    "# remove background \n",
    "enh.data[ np.isnan( image2.data ).all(axis=-1), : ] = np.nan\n",
    "\n",
    "fig,ax = enh.quick_plot((0,1,2))\n",
    "fig.show()"
   ]
  },
  {
   "cell_type": "markdown",
   "metadata": {},
   "source": [
    "### Saving figures\n",
    "\n",
    "While matplotlib figures can be easily saved using *fig.save_fig(...)*, it is often useful to save visualisations at their original resolution. This can be done in several ways:\n",
    "\n",
    "###### Using quick_plot"
   ]
  },
  {
   "cell_type": "code",
   "execution_count": null,
   "metadata": {},
   "outputs": [],
   "source": [
    "fig,ax = image.quick_plot(hylite.SWIR, path='./outputs/myimage.png')\n",
    "plt.clf()"
   ]
  },
  {
   "cell_type": "markdown",
   "metadata": {},
   "source": [
    "##### Using export_bands"
   ]
  },
  {
   "cell_type": "code",
   "execution_count": null,
   "metadata": {},
   "outputs": [],
   "source": [
    "rgb = image.export_bands(hylite.SWIR)\n",
    "#rgb.data = rgb.data[:,:,::-1] # N.B. for true colour (RGB) we would need to flip the order here, as they were exported in order of wavelength (b,g,r)\n",
    "rgb.percent_clip(5,95) # apply a percentile clip\n",
    "io.save('./outputs/myotherimage.png', rgb )"
   ]
  },
  {
   "cell_type": "code",
   "execution_count": null,
   "metadata": {},
   "outputs": [],
   "source": [
    "io.save('./outputs/andanotherimage.png', enh ) # even easier for ternary images!"
   ]
  }
 ],
 "metadata": {
  "kernelspec": {
   "display_name": "Python 3",
   "language": "python",
   "name": "python3"
  },
  "language_info": {
   "codemirror_mode": {
    "name": "ipython",
    "version": 3
   },
   "file_extension": ".py",
   "mimetype": "text/x-python",
   "name": "python",
   "nbconvert_exporter": "python",
   "pygments_lexer": "ipython3",
   "version": "3.8.10"
  }
 },
 "nbformat": 4,
 "nbformat_minor": 4
}
